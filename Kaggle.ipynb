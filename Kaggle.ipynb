{
 "cells": [
  {
   "cell_type": "code",
   "execution_count": 1,
   "metadata": {
    "collapsed": true
   },
   "outputs": [],
   "source": [
    "import pandas as pd\n",
    "import pickle\n",
    "%matplotlib inline\n",
    "import numpy as np"
   ]
  },
  {
   "cell_type": "code",
   "execution_count": 2,
   "metadata": {
    "collapsed": true
   },
   "outputs": [],
   "source": [
    "raw_data=pd.read_csv(\"training_variants.txt\")\n",
    "raw_data_test=pd.read_csv(\"test_variants.txt\")"
   ]
  },
  {
   "cell_type": "code",
   "execution_count": 3,
   "metadata": {},
   "outputs": [
    {
     "data": {
      "text/html": [
       "<div>\n",
       "<style>\n",
       "    .dataframe thead tr:only-child th {\n",
       "        text-align: right;\n",
       "    }\n",
       "\n",
       "    .dataframe thead th {\n",
       "        text-align: left;\n",
       "    }\n",
       "\n",
       "    .dataframe tbody tr th {\n",
       "        vertical-align: top;\n",
       "    }\n",
       "</style>\n",
       "<table border=\"1\" class=\"dataframe\">\n",
       "  <thead>\n",
       "    <tr style=\"text-align: right;\">\n",
       "      <th></th>\n",
       "      <th>ID</th>\n",
       "      <th>Gene</th>\n",
       "      <th>Variation</th>\n",
       "      <th>Class</th>\n",
       "    </tr>\n",
       "  </thead>\n",
       "  <tbody>\n",
       "  </tbody>\n",
       "</table>\n",
       "</div>"
      ],
      "text/plain": [
       "Empty DataFrame\n",
       "Columns: [ID, Gene, Variation, Class]\n",
       "Index: []"
      ]
     },
     "execution_count": 3,
     "metadata": {},
     "output_type": "execute_result"
    }
   ],
   "source": [
    "raw_data[raw_data.Class.isnull()]"
   ]
  },
  {
   "cell_type": "code",
   "execution_count": 4,
   "metadata": {},
   "outputs": [
    {
     "name": "stdout",
     "output_type": "stream",
     "text": [
      "   ID    Gene             Variation  Class\n",
      "0   0  FAM58A  Truncating Mutations      1\n",
      "1   1     CBL                 W802*      2\n",
      "2   2     CBL                 Q249E      2\n",
      "3   3     CBL                 N454D      3\n",
      "4   4     CBL                 L399V      4\n",
      "   ID     Gene Variation\n",
      "0   0    ACSL4     R570S\n",
      "1   1    NAGLU     P521L\n",
      "2   2      PAH     L333F\n",
      "3   3     ING1     A148D\n",
      "4   4  TMEM216      G77A\n"
     ]
    }
   ],
   "source": [
    "print raw_data.head()\n",
    "print raw_data_test.head()"
   ]
  },
  {
   "cell_type": "code",
   "execution_count": 5,
   "metadata": {
    "scrolled": false
   },
   "outputs": [
    {
     "name": "stderr",
     "output_type": "stream",
     "text": [
      "/Users/deepakmahapatra/anaconda/lib/python2.7/site-packages/ipykernel_launcher.py:1: ParserWarning: Falling back to the 'python' engine because the 'c' engine does not support regex separators (separators > 1 char and different from '\\s+' are interpreted as regex); you can avoid this warning by specifying engine='python'.\n",
      "  \"\"\"Entry point for launching an IPython kernel.\n",
      "/Users/deepakmahapatra/anaconda/lib/python2.7/site-packages/ipykernel_launcher.py:2: ParserWarning: Falling back to the 'python' engine because the 'c' engine does not support regex separators (separators > 1 char and different from '\\s+' are interpreted as regex); you can avoid this warning by specifying engine='python'.\n",
      "  \n"
     ]
    }
   ],
   "source": [
    "raw_text=pd.read_csv(\"training_text.txt\",sep='||',header=None,skiprows=0)\n",
    "raw_text_test=pd.read_csv(\"test_text.txt\",sep='||',header=None,skiprows=0)"
   ]
  },
  {
   "cell_type": "code",
   "execution_count": 6,
   "metadata": {},
   "outputs": [
    {
     "data": {
      "text/html": [
       "<div>\n",
       "<style>\n",
       "    .dataframe thead tr:only-child th {\n",
       "        text-align: right;\n",
       "    }\n",
       "\n",
       "    .dataframe thead th {\n",
       "        text-align: left;\n",
       "    }\n",
       "\n",
       "    .dataframe tbody tr th {\n",
       "        vertical-align: top;\n",
       "    }\n",
       "</style>\n",
       "<table border=\"1\" class=\"dataframe\">\n",
       "  <thead>\n",
       "    <tr style=\"text-align: right;\">\n",
       "      <th></th>\n",
       "      <th>0</th>\n",
       "    </tr>\n",
       "  </thead>\n",
       "  <tbody>\n",
       "    <tr>\n",
       "      <th>0</th>\n",
       "      <td>ID,Text</td>\n",
       "    </tr>\n",
       "    <tr>\n",
       "      <th>1</th>\n",
       "      <td>0||Cyclin-dependent kinases (CDKs) regulate a ...</td>\n",
       "    </tr>\n",
       "  </tbody>\n",
       "</table>\n",
       "</div>"
      ],
      "text/plain": [
       "                                                   0\n",
       "0                                            ID,Text\n",
       "1  0||Cyclin-dependent kinases (CDKs) regulate a ..."
      ]
     },
     "execution_count": 6,
     "metadata": {},
     "output_type": "execute_result"
    }
   ],
   "source": [
    "raw_text.head(2)"
   ]
  },
  {
   "cell_type": "code",
   "execution_count": 41,
   "metadata": {
    "collapsed": true
   },
   "outputs": [],
   "source": [
    "raw_text[\"ID\"],raw_text[\"Text\"] = raw_text[0].str.split('\\|\\|', 1).str\n",
    "raw_text_test[\"ID\"],raw_text_test[\"Text\"] = raw_text_test[0].str.split('\\|\\|', 1).str"
   ]
  },
  {
   "cell_type": "code",
   "execution_count": 42,
   "metadata": {
    "collapsed": true,
    "scrolled": true
   },
   "outputs": [],
   "source": [
    "raw_text=raw_text.drop(0,axis=1)\n",
    "raw_text_test=raw_text_test.drop(0,axis=1)"
   ]
  },
  {
   "cell_type": "code",
   "execution_count": 43,
   "metadata": {
    "scrolled": true
   },
   "outputs": [
    {
     "data": {
      "text/html": [
       "<div>\n",
       "<table border=\"1\" class=\"dataframe\">\n",
       "  <thead>\n",
       "    <tr style=\"text-align: right;\">\n",
       "      <th></th>\n",
       "      <th>ID</th>\n",
       "      <th>Text</th>\n",
       "    </tr>\n",
       "  </thead>\n",
       "  <tbody>\n",
       "    <tr>\n",
       "      <th>0</th>\n",
       "      <td>0</td>\n",
       "      <td>2. This mutation resulted in a myeloproliferat...</td>\n",
       "    </tr>\n",
       "    <tr>\n",
       "      <th>1</th>\n",
       "      <td>1</td>\n",
       "      <td>Abstract The Large Tumor Suppressor 1 (LATS1)...</td>\n",
       "    </tr>\n",
       "    <tr>\n",
       "      <th>2</th>\n",
       "      <td>2</td>\n",
       "      <td>Vascular endothelial growth factor receptor (V...</td>\n",
       "    </tr>\n",
       "    <tr>\n",
       "      <th>3</th>\n",
       "      <td>3</td>\n",
       "      <td>Inflammatory myofibroblastic tumor (IMT) is a ...</td>\n",
       "    </tr>\n",
       "    <tr>\n",
       "      <th>4</th>\n",
       "      <td>4</td>\n",
       "      <td>Abstract Retinoblastoma is a pediatric retina...</td>\n",
       "    </tr>\n",
       "    <tr>\n",
       "      <th>5</th>\n",
       "      <td>5</td>\n",
       "      <td>The accurate determination of perfluoroalkyl s...</td>\n",
       "    </tr>\n",
       "    <tr>\n",
       "      <th>6</th>\n",
       "      <td>6</td>\n",
       "      <td>Aberrations in the mTOR (mechanistic target of...</td>\n",
       "    </tr>\n",
       "    <tr>\n",
       "      <th>7</th>\n",
       "      <td>7</td>\n",
       "      <td>Oncogenic mutations in the monomeric Casitas B...</td>\n",
       "    </tr>\n",
       "    <tr>\n",
       "      <th>8</th>\n",
       "      <td>8</td>\n",
       "      <td>NPM1 gene at chromosome 5q35 is involved in re...</td>\n",
       "    </tr>\n",
       "    <tr>\n",
       "      <th>9</th>\n",
       "      <td>9</td>\n",
       "      <td>Introduction The epidermal growth factor recep...</td>\n",
       "    </tr>\n",
       "    <tr>\n",
       "      <th>10</th>\n",
       "      <td>10</td>\n",
       "      <td>The protein kinase B-RAF is mutated in approxi...</td>\n",
       "    </tr>\n",
       "    <tr>\n",
       "      <th>11</th>\n",
       "      <td>11</td>\n",
       "      <td>Genes of the Raf family encode kinases that ar...</td>\n",
       "    </tr>\n",
       "    <tr>\n",
       "      <th>12</th>\n",
       "      <td>12</td>\n",
       "      <td>TET proteins oxidize 5-methylcytosine (5mC) on...</td>\n",
       "    </tr>\n",
       "    <tr>\n",
       "      <th>13</th>\n",
       "      <td>13</td>\n",
       "      <td>The p110δ subunit of phosphoinositide 3-kinase...</td>\n",
       "    </tr>\n",
       "    <tr>\n",
       "      <th>14</th>\n",
       "      <td>14</td>\n",
       "      <td>Abstract  Purpose: Positron emission tomograp...</td>\n",
       "    </tr>\n",
       "    <tr>\n",
       "      <th>15</th>\n",
       "      <td>15</td>\n",
       "      <td>Mutations leading to activation of the RAF-mit...</td>\n",
       "    </tr>\n",
       "    <tr>\n",
       "      <th>16</th>\n",
       "      <td>16</td>\n",
       "      <td>Janus (Jak) tyrosine kinases contain a tyrosin...</td>\n",
       "    </tr>\n",
       "    <tr>\n",
       "      <th>17</th>\n",
       "      <td>17</td>\n",
       "      <td>Germ line missense mutations in HRAS and KRAS ...</td>\n",
       "    </tr>\n",
       "    <tr>\n",
       "      <th>18</th>\n",
       "      <td>18</td>\n",
       "      <td>The actions of RhoA in cytoskeletal regulation...</td>\n",
       "    </tr>\n",
       "    <tr>\n",
       "      <th>19</th>\n",
       "      <td>19</td>\n",
       "      <td>Genes encoding components of the PI3K-Akt-mTOR...</td>\n",
       "    </tr>\n",
       "    <tr>\n",
       "      <th>20</th>\n",
       "      <td>20</td>\n",
       "      <td>A 44-year-old male presented with a violaceous...</td>\n",
       "    </tr>\n",
       "    <tr>\n",
       "      <th>21</th>\n",
       "      <td>21</td>\n",
       "      <td>Myeloproliferative disorders (MPD) constitute ...</td>\n",
       "    </tr>\n",
       "    <tr>\n",
       "      <th>22</th>\n",
       "      <td>22</td>\n",
       "      <td>Peutz-Jeghers syndrome (PJS) is an autosomal d...</td>\n",
       "    </tr>\n",
       "    <tr>\n",
       "      <th>23</th>\n",
       "      <td>23</td>\n",
       "      <td>Treatment of BRAF-mutant melanoma with combine...</td>\n",
       "    </tr>\n",
       "    <tr>\n",
       "      <th>24</th>\n",
       "      <td>24</td>\n",
       "      <td>Purpose: Activating mutations of the anaplasti...</td>\n",
       "    </tr>\n",
       "    <tr>\n",
       "      <th>25</th>\n",
       "      <td>25</td>\n",
       "      <td>The ten-eleven translocation 1 (TET1) gene is ...</td>\n",
       "    </tr>\n",
       "    <tr>\n",
       "      <th>26</th>\n",
       "      <td>26</td>\n",
       "      <td>Immunohistochemical scenarios the tissues K69R...</td>\n",
       "    </tr>\n",
       "    <tr>\n",
       "      <th>27</th>\n",
       "      <td>27</td>\n",
       "      <td>Myc expression is deregulated in a wide range ...</td>\n",
       "    </tr>\n",
       "    <tr>\n",
       "      <th>28</th>\n",
       "      <td>28</td>\n",
       "      <td>Inactivation of the switch/sucrose nonfermenta...</td>\n",
       "    </tr>\n",
       "    <tr>\n",
       "      <th>29</th>\n",
       "      <td>29</td>\n",
       "      <td>Mutations in genes involved in Ras signalling ...</td>\n",
       "    </tr>\n",
       "    <tr>\n",
       "      <th>...</th>\n",
       "      <td>...</td>\n",
       "      <td>...</td>\n",
       "    </tr>\n",
       "    <tr>\n",
       "      <th>5638</th>\n",
       "      <td>5638</td>\n",
       "      <td>Using a DNA microarray approach to screen for ...</td>\n",
       "    </tr>\n",
       "    <tr>\n",
       "      <th>5639</th>\n",
       "      <td>5639</td>\n",
       "      <td>The tumor suppressor protein p53 is inactivate...</td>\n",
       "    </tr>\n",
       "    <tr>\n",
       "      <th>5640</th>\n",
       "      <td>5640</td>\n",
       "      <td>Mutational analysis of oncogenes is critical f...</td>\n",
       "    </tr>\n",
       "    <tr>\n",
       "      <th>5641</th>\n",
       "      <td>5641</td>\n",
       "      <td>The serine/threonine protein kinase encoded by...</td>\n",
       "    </tr>\n",
       "    <tr>\n",
       "      <th>5642</th>\n",
       "      <td>5642</td>\n",
       "      <td>The common participation of oncogenic KRAS pro...</td>\n",
       "    </tr>\n",
       "    <tr>\n",
       "      <th>5643</th>\n",
       "      <td>5643</td>\n",
       "      <td>EZH2 (enhancer of zeste homolog 2) is a critic...</td>\n",
       "    </tr>\n",
       "    <tr>\n",
       "      <th>5644</th>\n",
       "      <td>5644</td>\n",
       "      <td>Mutations in the metabolic enzymes isocitrate ...</td>\n",
       "    </tr>\n",
       "    <tr>\n",
       "      <th>5645</th>\n",
       "      <td>5645</td>\n",
       "      <td>Pancreatic carcinomas with acinar differentiat...</td>\n",
       "    </tr>\n",
       "    <tr>\n",
       "      <th>5646</th>\n",
       "      <td>5646</td>\n",
       "      <td>β-Catenin-mediated signaling can be constituti...</td>\n",
       "    </tr>\n",
       "    <tr>\n",
       "      <th>5647</th>\n",
       "      <td>5647</td>\n",
       "      <td>Summary The genetic abnormalities underlying h...</td>\n",
       "    </tr>\n",
       "    <tr>\n",
       "      <th>5648</th>\n",
       "      <td>5648</td>\n",
       "      <td>Lung cancer is the leading cause of cancer-rel...</td>\n",
       "    </tr>\n",
       "    <tr>\n",
       "      <th>5649</th>\n",
       "      <td>5649</td>\n",
       "      <td>Summary During the past decade, the treatment ...</td>\n",
       "    </tr>\n",
       "    <tr>\n",
       "      <th>5650</th>\n",
       "      <td>5650</td>\n",
       "      <td>The transcription factor and tumor suppressor ...</td>\n",
       "    </tr>\n",
       "    <tr>\n",
       "      <th>5651</th>\n",
       "      <td>5651</td>\n",
       "      <td>Protein tyrosine phosphatase receptor type D (...</td>\n",
       "    </tr>\n",
       "    <tr>\n",
       "      <th>5652</th>\n",
       "      <td>5652</td>\n",
       "      <td>Sensitizing activating mutations in the tyrosi...</td>\n",
       "    </tr>\n",
       "    <tr>\n",
       "      <th>5653</th>\n",
       "      <td>5653</td>\n",
       "      <td>Structural rearrangements of chromosome 10 are...</td>\n",
       "    </tr>\n",
       "    <tr>\n",
       "      <th>5654</th>\n",
       "      <td>5654</td>\n",
       "      <td>Introduction  Production of fertile gametes is...</td>\n",
       "    </tr>\n",
       "    <tr>\n",
       "      <th>5655</th>\n",
       "      <td>5655</td>\n",
       "      <td>Checkpoint kinase 2 (CHEK2, Chk2) emerges as a...</td>\n",
       "    </tr>\n",
       "    <tr>\n",
       "      <th>5656</th>\n",
       "      <td>5656</td>\n",
       "      <td>Introduction The telomere sequences at the chr...</td>\n",
       "    </tr>\n",
       "    <tr>\n",
       "      <th>5657</th>\n",
       "      <td>5657</td>\n",
       "      <td>There are an estimated 1 million cases of brea...</td>\n",
       "    </tr>\n",
       "    <tr>\n",
       "      <th>5658</th>\n",
       "      <td>5658</td>\n",
       "      <td>As of the occurring responders expression Tabl...</td>\n",
       "    </tr>\n",
       "    <tr>\n",
       "      <th>5659</th>\n",
       "      <td>5659</td>\n",
       "      <td>Background &amp; Aims: Inherited deleterious muta...</td>\n",
       "    </tr>\n",
       "    <tr>\n",
       "      <th>5660</th>\n",
       "      <td>5660</td>\n",
       "      <td>Glioblastoma multiforme (GBM) is a lethal brai...</td>\n",
       "    </tr>\n",
       "    <tr>\n",
       "      <th>5661</th>\n",
       "      <td>5661</td>\n",
       "      <td>Diffuse large B cell lymphoma (DLBCL) is a com...</td>\n",
       "    </tr>\n",
       "    <tr>\n",
       "      <th>5662</th>\n",
       "      <td>5662</td>\n",
       "      <td>Figure largeDownload these has S818L clones ch...</td>\n",
       "    </tr>\n",
       "    <tr>\n",
       "      <th>5663</th>\n",
       "      <td>5663</td>\n",
       "      <td>The realization in the late 1970s that RAS har...</td>\n",
       "    </tr>\n",
       "    <tr>\n",
       "      <th>5664</th>\n",
       "      <td>5664</td>\n",
       "      <td>Hemizygous deletions are common molecular abno...</td>\n",
       "    </tr>\n",
       "    <tr>\n",
       "      <th>5665</th>\n",
       "      <td>5665</td>\n",
       "      <td>All most R267W of has with to SMARTpool invest...</td>\n",
       "    </tr>\n",
       "    <tr>\n",
       "      <th>5666</th>\n",
       "      <td>5666</td>\n",
       "      <td>Abstract Blood samples from 125 unrelated fami...</td>\n",
       "    </tr>\n",
       "    <tr>\n",
       "      <th>5667</th>\n",
       "      <td>5667</td>\n",
       "      <td>Loss of DNA mismatch repair (MMR) in humans, m...</td>\n",
       "    </tr>\n",
       "  </tbody>\n",
       "</table>\n",
       "<p>5668 rows × 2 columns</p>\n",
       "</div>"
      ],
      "text/plain": [
       "        ID                                               Text\n",
       "0        0  2. This mutation resulted in a myeloproliferat...\n",
       "1        1   Abstract The Large Tumor Suppressor 1 (LATS1)...\n",
       "2        2  Vascular endothelial growth factor receptor (V...\n",
       "3        3  Inflammatory myofibroblastic tumor (IMT) is a ...\n",
       "4        4   Abstract Retinoblastoma is a pediatric retina...\n",
       "5        5  The accurate determination of perfluoroalkyl s...\n",
       "6        6  Aberrations in the mTOR (mechanistic target of...\n",
       "7        7  Oncogenic mutations in the monomeric Casitas B...\n",
       "8        8  NPM1 gene at chromosome 5q35 is involved in re...\n",
       "9        9  Introduction The epidermal growth factor recep...\n",
       "10      10  The protein kinase B-RAF is mutated in approxi...\n",
       "11      11  Genes of the Raf family encode kinases that ar...\n",
       "12      12  TET proteins oxidize 5-methylcytosine (5mC) on...\n",
       "13      13  The p110δ subunit of phosphoinositide 3-kinase...\n",
       "14      14   Abstract  Purpose: Positron emission tomograp...\n",
       "15      15  Mutations leading to activation of the RAF-mit...\n",
       "16      16  Janus (Jak) tyrosine kinases contain a tyrosin...\n",
       "17      17  Germ line missense mutations in HRAS and KRAS ...\n",
       "18      18  The actions of RhoA in cytoskeletal regulation...\n",
       "19      19  Genes encoding components of the PI3K-Akt-mTOR...\n",
       "20      20  A 44-year-old male presented with a violaceous...\n",
       "21      21  Myeloproliferative disorders (MPD) constitute ...\n",
       "22      22  Peutz-Jeghers syndrome (PJS) is an autosomal d...\n",
       "23      23  Treatment of BRAF-mutant melanoma with combine...\n",
       "24      24  Purpose: Activating mutations of the anaplasti...\n",
       "25      25  The ten-eleven translocation 1 (TET1) gene is ...\n",
       "26      26  Immunohistochemical scenarios the tissues K69R...\n",
       "27      27  Myc expression is deregulated in a wide range ...\n",
       "28      28  Inactivation of the switch/sucrose nonfermenta...\n",
       "29      29  Mutations in genes involved in Ras signalling ...\n",
       "...    ...                                                ...\n",
       "5638  5638  Using a DNA microarray approach to screen for ...\n",
       "5639  5639  The tumor suppressor protein p53 is inactivate...\n",
       "5640  5640  Mutational analysis of oncogenes is critical f...\n",
       "5641  5641  The serine/threonine protein kinase encoded by...\n",
       "5642  5642  The common participation of oncogenic KRAS pro...\n",
       "5643  5643  EZH2 (enhancer of zeste homolog 2) is a critic...\n",
       "5644  5644  Mutations in the metabolic enzymes isocitrate ...\n",
       "5645  5645  Pancreatic carcinomas with acinar differentiat...\n",
       "5646  5646  β-Catenin-mediated signaling can be constituti...\n",
       "5647  5647  Summary The genetic abnormalities underlying h...\n",
       "5648  5648  Lung cancer is the leading cause of cancer-rel...\n",
       "5649  5649  Summary During the past decade, the treatment ...\n",
       "5650  5650  The transcription factor and tumor suppressor ...\n",
       "5651  5651  Protein tyrosine phosphatase receptor type D (...\n",
       "5652  5652  Sensitizing activating mutations in the tyrosi...\n",
       "5653  5653  Structural rearrangements of chromosome 10 are...\n",
       "5654  5654  Introduction  Production of fertile gametes is...\n",
       "5655  5655  Checkpoint kinase 2 (CHEK2, Chk2) emerges as a...\n",
       "5656  5656  Introduction The telomere sequences at the chr...\n",
       "5657  5657  There are an estimated 1 million cases of brea...\n",
       "5658  5658  As of the occurring responders expression Tabl...\n",
       "5659  5659   Background & Aims: Inherited deleterious muta...\n",
       "5660  5660  Glioblastoma multiforme (GBM) is a lethal brai...\n",
       "5661  5661  Diffuse large B cell lymphoma (DLBCL) is a com...\n",
       "5662  5662  Figure largeDownload these has S818L clones ch...\n",
       "5663  5663  The realization in the late 1970s that RAS har...\n",
       "5664  5664  Hemizygous deletions are common molecular abno...\n",
       "5665  5665  All most R267W of has with to SMARTpool invest...\n",
       "5666  5666  Abstract Blood samples from 125 unrelated fami...\n",
       "5667  5667  Loss of DNA mismatch repair (MMR) in humans, m...\n",
       "\n",
       "[5668 rows x 2 columns]"
      ]
     },
     "execution_count": 43,
     "metadata": {},
     "output_type": "execute_result"
    }
   ],
   "source": [
    "raw_text=raw_text[raw_text.index!=0]\n",
    "raw_text_test=raw_text_test[raw_text_test.index!=0]\n",
    "raw_text=raw_text.reset_index()\n",
    "raw_text.drop([\"index\"],axis=1)\n",
    "raw_text_test=raw_text_test.reset_index()\n",
    "raw_text_test.drop([\"index\"],axis=1)"
   ]
  },
  {
   "cell_type": "code",
   "execution_count": 46,
   "metadata": {
    "scrolled": true
   },
   "outputs": [
    {
     "data": {
      "text/html": [
       "<div>\n",
       "<table border=\"1\" class=\"dataframe\">\n",
       "  <thead>\n",
       "    <tr style=\"text-align: right;\">\n",
       "      <th></th>\n",
       "      <th>ID</th>\n",
       "      <th>Gene</th>\n",
       "      <th>Variation</th>\n",
       "      <th>Class</th>\n",
       "      <th>Text</th>\n",
       "    </tr>\n",
       "  </thead>\n",
       "  <tbody>\n",
       "    <tr>\n",
       "      <th>0</th>\n",
       "      <td>0</td>\n",
       "      <td>FAM58A</td>\n",
       "      <td>Truncating Mutations</td>\n",
       "      <td>1</td>\n",
       "      <td>Cyclin-dependent kinases (CDKs) regulate a var...</td>\n",
       "    </tr>\n",
       "    <tr>\n",
       "      <th>1</th>\n",
       "      <td>1</td>\n",
       "      <td>CBL</td>\n",
       "      <td>W802*</td>\n",
       "      <td>2</td>\n",
       "      <td>Abstract Background  Non-small cell lung canc...</td>\n",
       "    </tr>\n",
       "    <tr>\n",
       "      <th>2</th>\n",
       "      <td>2</td>\n",
       "      <td>CBL</td>\n",
       "      <td>Q249E</td>\n",
       "      <td>2</td>\n",
       "      <td>Abstract Background  Non-small cell lung canc...</td>\n",
       "    </tr>\n",
       "  </tbody>\n",
       "</table>\n",
       "</div>"
      ],
      "text/plain": [
       "   ID    Gene             Variation  Class  \\\n",
       "0   0  FAM58A  Truncating Mutations      1   \n",
       "1   1     CBL                 W802*      2   \n",
       "2   2     CBL                 Q249E      2   \n",
       "\n",
       "                                                Text  \n",
       "0  Cyclin-dependent kinases (CDKs) regulate a var...  \n",
       "1   Abstract Background  Non-small cell lung canc...  \n",
       "2   Abstract Background  Non-small cell lung canc...  "
      ]
     },
     "execution_count": 46,
     "metadata": {},
     "output_type": "execute_result"
    }
   ],
   "source": [
    "final=raw_data.merge(raw_text,left_index=True,right_index=True)\n",
    "#final=pd.concat([raw_data, raw_text], axis=1)\n",
    "final=final.drop([\"ID_y\",\"index\"],axis=1)\n",
    "final.rename(columns={'ID_x': 'ID'},inplace=True)\n",
    "final.head(3)"
   ]
  },
  {
   "cell_type": "code",
   "execution_count": 47,
   "metadata": {
    "collapsed": true
   },
   "outputs": [],
   "source": [
    "final=final.reindex(columns=[\"ID\",\"Gene\",\"Variation\",\"Text\",\"Class\"])"
   ]
  },
  {
   "cell_type": "code",
   "execution_count": 48,
   "metadata": {
    "collapsed": true
   },
   "outputs": [],
   "source": [
    "final_test=raw_data_test.merge(raw_text_test,how=\"inner\",left_index=True,right_index=True)\n",
    "final_test=final_test.drop([\"ID_y\",\"index\"],axis=1)\n",
    "final_test.rename(columns={'ID_x': 'ID'},inplace=True)"
   ]
  },
  {
   "cell_type": "code",
   "execution_count": 49,
   "metadata": {
    "collapsed": true
   },
   "outputs": [],
   "source": [
    "final_test=final_test.reindex(columns=[\"ID\",\"Gene\",\"Variation\",\"Text\"])"
   ]
  },
  {
   "cell_type": "code",
   "execution_count": 50,
   "metadata": {
    "scrolled": true
   },
   "outputs": [
    {
     "data": {
      "text/html": [
       "<div>\n",
       "<table border=\"1\" class=\"dataframe\">\n",
       "  <thead>\n",
       "    <tr style=\"text-align: right;\">\n",
       "      <th></th>\n",
       "      <th>ID</th>\n",
       "      <th>Gene</th>\n",
       "      <th>Variation</th>\n",
       "      <th>Text</th>\n",
       "    </tr>\n",
       "  </thead>\n",
       "  <tbody>\n",
       "    <tr>\n",
       "      <th>0</th>\n",
       "      <td>0</td>\n",
       "      <td>ACSL4</td>\n",
       "      <td>R570S</td>\n",
       "      <td>2. This mutation resulted in a myeloproliferat...</td>\n",
       "    </tr>\n",
       "    <tr>\n",
       "      <th>1</th>\n",
       "      <td>1</td>\n",
       "      <td>NAGLU</td>\n",
       "      <td>P521L</td>\n",
       "      <td>Abstract The Large Tumor Suppressor 1 (LATS1)...</td>\n",
       "    </tr>\n",
       "  </tbody>\n",
       "</table>\n",
       "</div>"
      ],
      "text/plain": [
       "   ID   Gene Variation                                               Text\n",
       "0   0  ACSL4     R570S  2. This mutation resulted in a myeloproliferat...\n",
       "1   1  NAGLU     P521L   Abstract The Large Tumor Suppressor 1 (LATS1)..."
      ]
     },
     "execution_count": 50,
     "metadata": {},
     "output_type": "execute_result"
    }
   ],
   "source": [
    "final.head(2)\n",
    "final_test.head(2)"
   ]
  },
  {
   "cell_type": "code",
   "execution_count": 51,
   "metadata": {
    "collapsed": true
   },
   "outputs": [],
   "source": [
    "import nltk\n",
    "from nltk.corpus import stopwords # stop words\n",
    "from nltk.tokenize import wordpunct_tokenize,word_tokenize # splits sentences into words\n",
    "from sklearn.feature_extraction.text import CountVectorizer,TfidfVectorizer\n",
    "from nltk.stem.lancaster import LancasterStemmer # extract the roots of words \n",
    "from nltk.stem.porter import PorterStemmer # extract the roots of words \n",
    "import re\n",
    "import lda\n",
    "from copy import deepcopy"
   ]
  },
  {
   "cell_type": "code",
   "execution_count": 52,
   "metadata": {
    "collapsed": true
   },
   "outputs": [],
   "source": [
    "from nltk.stem.snowball import SnowballStemmer\n",
    "stemmer = SnowballStemmer(\"english\")"
   ]
  },
  {
   "cell_type": "code",
   "execution_count": 53,
   "metadata": {
    "collapsed": true
   },
   "outputs": [],
   "source": [
    "def tokenize_and_stem(text):\n",
    "    # first tokenize by sentence, then by word to ensure that punctuation is caught as it's own token\n",
    "    tokens = [word for sent in nltk.sent_tokenize(text) for word in nltk.word_tokenize(sent)]\n",
    "    filtered_tokens = []\n",
    "    # filter out any tokens not containing letters (e.g., numeric tokens, raw punctuation)\n",
    "    for token in tokens:\n",
    "        if re.search('[a-zA-Z]', token):\n",
    "            filtered_tokens.append(token)\n",
    "    stems = [stemmer.stem(t) for t in filtered_tokens]\n",
    "    return stems"
   ]
  },
  {
   "cell_type": "code",
   "execution_count": 54,
   "metadata": {
    "scrolled": true
   },
   "outputs": [
    {
     "name": "stdout",
     "output_type": "stream",
     "text": [
      "3321\n",
      "5668\n",
      "8989\n",
      "(8989,)\n"
     ]
    }
   ],
   "source": [
    "print final.Text.size\n",
    "print final_test.Text.size\n",
    "print pd.concat([final.Text,final_test.Text]).size\n",
    "\n",
    "text_docs=pd.concat([final.Text,final_test.Text])\n",
    "print text_docs.shape\n",
    "\n",
    "#text_docs.to_csv(\"Final_text.csv\")"
   ]
  },
  {
   "cell_type": "code",
   "execution_count": 55,
   "metadata": {
    "collapsed": true,
    "scrolled": true
   },
   "outputs": [],
   "source": [
    "text_docs=pd.DataFrame(text_docs)\n",
    "text_docs=text_docs.reset_index()\n",
    "text_docs.drop([\"index\"],axis=1,inplace=True)\n"
   ]
  },
  {
   "cell_type": "code",
   "execution_count": 56,
   "metadata": {
    "scrolled": true
   },
   "outputs": [
    {
     "data": {
      "text/html": [
       "<div>\n",
       "<table border=\"1\" class=\"dataframe\">\n",
       "  <thead>\n",
       "    <tr style=\"text-align: right;\">\n",
       "      <th></th>\n",
       "      <th>Text</th>\n",
       "    </tr>\n",
       "  </thead>\n",
       "  <tbody>\n",
       "    <tr>\n",
       "      <th>0</th>\n",
       "      <td>Cyclin-dependent kinases (CDKs) regulate a var...</td>\n",
       "    </tr>\n",
       "    <tr>\n",
       "      <th>1</th>\n",
       "      <td>Abstract Background  Non-small cell lung canc...</td>\n",
       "    </tr>\n",
       "    <tr>\n",
       "      <th>2</th>\n",
       "      <td>Abstract Background  Non-small cell lung canc...</td>\n",
       "    </tr>\n",
       "    <tr>\n",
       "      <th>3</th>\n",
       "      <td>Recent evidence has demonstrated that acquired...</td>\n",
       "    </tr>\n",
       "    <tr>\n",
       "      <th>4</th>\n",
       "      <td>Oncogenic mutations in the monomeric Casitas B...</td>\n",
       "    </tr>\n",
       "    <tr>\n",
       "      <th>5</th>\n",
       "      <td>Oncogenic mutations in the monomeric Casitas B...</td>\n",
       "    </tr>\n",
       "    <tr>\n",
       "      <th>6</th>\n",
       "      <td>Oncogenic mutations in the monomeric Casitas B...</td>\n",
       "    </tr>\n",
       "    <tr>\n",
       "      <th>7</th>\n",
       "      <td>CBL is a negative regulator of activated recep...</td>\n",
       "    </tr>\n",
       "    <tr>\n",
       "      <th>8</th>\n",
       "      <td>Abstract Juvenile myelomonocytic leukemia (JM...</td>\n",
       "    </tr>\n",
       "    <tr>\n",
       "      <th>9</th>\n",
       "      <td>Abstract Juvenile myelomonocytic leukemia (JM...</td>\n",
       "    </tr>\n",
       "    <tr>\n",
       "      <th>10</th>\n",
       "      <td>Oncogenic mutations in the monomeric Casitas B...</td>\n",
       "    </tr>\n",
       "    <tr>\n",
       "      <th>11</th>\n",
       "      <td>Noonan syndrome is an autosomal dominant conge...</td>\n",
       "    </tr>\n",
       "    <tr>\n",
       "      <th>12</th>\n",
       "      <td>Noonan syndrome is an autosomal dominant conge...</td>\n",
       "    </tr>\n",
       "    <tr>\n",
       "      <th>13</th>\n",
       "      <td>Noonan syndrome is an autosomal dominant conge...</td>\n",
       "    </tr>\n",
       "    <tr>\n",
       "      <th>14</th>\n",
       "      <td>Oncogenic mutations in the monomeric Casitas B...</td>\n",
       "    </tr>\n",
       "    <tr>\n",
       "      <th>15</th>\n",
       "      <td>Noonan syndrome is an autosomal dominant conge...</td>\n",
       "    </tr>\n",
       "    <tr>\n",
       "      <th>16</th>\n",
       "      <td>To determine if residual cylindrical refractiv...</td>\n",
       "    </tr>\n",
       "    <tr>\n",
       "      <th>17</th>\n",
       "      <td>Acquired uniparental disomy (aUPD) is a common...</td>\n",
       "    </tr>\n",
       "    <tr>\n",
       "      <th>18</th>\n",
       "      <td>Oncogenic mutations in the monomeric Casitas B...</td>\n",
       "    </tr>\n",
       "    <tr>\n",
       "      <th>19</th>\n",
       "      <td>Acquired uniparental disomy (aUPD) is a common...</td>\n",
       "    </tr>\n",
       "    <tr>\n",
       "      <th>20</th>\n",
       "      <td>Abstract Background  Non-small cell lung canc...</td>\n",
       "    </tr>\n",
       "    <tr>\n",
       "      <th>21</th>\n",
       "      <td>Oncogenic mutations in the monomeric Casitas B...</td>\n",
       "    </tr>\n",
       "    <tr>\n",
       "      <th>22</th>\n",
       "      <td>Oncogenic mutations in the monomeric Casitas B...</td>\n",
       "    </tr>\n",
       "    <tr>\n",
       "      <th>23</th>\n",
       "      <td>Recent evidence has demonstrated that acquired...</td>\n",
       "    </tr>\n",
       "    <tr>\n",
       "      <th>24</th>\n",
       "      <td>Recent evidence has demonstrated that acquired...</td>\n",
       "    </tr>\n",
       "    <tr>\n",
       "      <th>25</th>\n",
       "      <td>Recent evidence has demonstrated that acquired...</td>\n",
       "    </tr>\n",
       "    <tr>\n",
       "      <th>26</th>\n",
       "      <td>Abstract N-myristoylation is a common form of...</td>\n",
       "    </tr>\n",
       "    <tr>\n",
       "      <th>27</th>\n",
       "      <td>Heterozygous mutations in the telomerase compo...</td>\n",
       "    </tr>\n",
       "    <tr>\n",
       "      <th>28</th>\n",
       "      <td>Sequencing studies have identified many recurr...</td>\n",
       "    </tr>\n",
       "    <tr>\n",
       "      <th>29</th>\n",
       "      <td>Heterozygous mutations in the telomerase compo...</td>\n",
       "    </tr>\n",
       "    <tr>\n",
       "      <th>...</th>\n",
       "      <td>...</td>\n",
       "    </tr>\n",
       "    <tr>\n",
       "      <th>8959</th>\n",
       "      <td>Using a DNA microarray approach to screen for ...</td>\n",
       "    </tr>\n",
       "    <tr>\n",
       "      <th>8960</th>\n",
       "      <td>The tumor suppressor protein p53 is inactivate...</td>\n",
       "    </tr>\n",
       "    <tr>\n",
       "      <th>8961</th>\n",
       "      <td>Mutational analysis of oncogenes is critical f...</td>\n",
       "    </tr>\n",
       "    <tr>\n",
       "      <th>8962</th>\n",
       "      <td>The serine/threonine protein kinase encoded by...</td>\n",
       "    </tr>\n",
       "    <tr>\n",
       "      <th>8963</th>\n",
       "      <td>The common participation of oncogenic KRAS pro...</td>\n",
       "    </tr>\n",
       "    <tr>\n",
       "      <th>8964</th>\n",
       "      <td>EZH2 (enhancer of zeste homolog 2) is a critic...</td>\n",
       "    </tr>\n",
       "    <tr>\n",
       "      <th>8965</th>\n",
       "      <td>Mutations in the metabolic enzymes isocitrate ...</td>\n",
       "    </tr>\n",
       "    <tr>\n",
       "      <th>8966</th>\n",
       "      <td>Pancreatic carcinomas with acinar differentiat...</td>\n",
       "    </tr>\n",
       "    <tr>\n",
       "      <th>8967</th>\n",
       "      <td>β-Catenin-mediated signaling can be constituti...</td>\n",
       "    </tr>\n",
       "    <tr>\n",
       "      <th>8968</th>\n",
       "      <td>Summary The genetic abnormalities underlying h...</td>\n",
       "    </tr>\n",
       "    <tr>\n",
       "      <th>8969</th>\n",
       "      <td>Lung cancer is the leading cause of cancer-rel...</td>\n",
       "    </tr>\n",
       "    <tr>\n",
       "      <th>8970</th>\n",
       "      <td>Summary During the past decade, the treatment ...</td>\n",
       "    </tr>\n",
       "    <tr>\n",
       "      <th>8971</th>\n",
       "      <td>The transcription factor and tumor suppressor ...</td>\n",
       "    </tr>\n",
       "    <tr>\n",
       "      <th>8972</th>\n",
       "      <td>Protein tyrosine phosphatase receptor type D (...</td>\n",
       "    </tr>\n",
       "    <tr>\n",
       "      <th>8973</th>\n",
       "      <td>Sensitizing activating mutations in the tyrosi...</td>\n",
       "    </tr>\n",
       "    <tr>\n",
       "      <th>8974</th>\n",
       "      <td>Structural rearrangements of chromosome 10 are...</td>\n",
       "    </tr>\n",
       "    <tr>\n",
       "      <th>8975</th>\n",
       "      <td>Introduction  Production of fertile gametes is...</td>\n",
       "    </tr>\n",
       "    <tr>\n",
       "      <th>8976</th>\n",
       "      <td>Checkpoint kinase 2 (CHEK2, Chk2) emerges as a...</td>\n",
       "    </tr>\n",
       "    <tr>\n",
       "      <th>8977</th>\n",
       "      <td>Introduction The telomere sequences at the chr...</td>\n",
       "    </tr>\n",
       "    <tr>\n",
       "      <th>8978</th>\n",
       "      <td>There are an estimated 1 million cases of brea...</td>\n",
       "    </tr>\n",
       "    <tr>\n",
       "      <th>8979</th>\n",
       "      <td>As of the occurring responders expression Tabl...</td>\n",
       "    </tr>\n",
       "    <tr>\n",
       "      <th>8980</th>\n",
       "      <td>Background &amp; Aims: Inherited deleterious muta...</td>\n",
       "    </tr>\n",
       "    <tr>\n",
       "      <th>8981</th>\n",
       "      <td>Glioblastoma multiforme (GBM) is a lethal brai...</td>\n",
       "    </tr>\n",
       "    <tr>\n",
       "      <th>8982</th>\n",
       "      <td>Diffuse large B cell lymphoma (DLBCL) is a com...</td>\n",
       "    </tr>\n",
       "    <tr>\n",
       "      <th>8983</th>\n",
       "      <td>Figure largeDownload these has S818L clones ch...</td>\n",
       "    </tr>\n",
       "    <tr>\n",
       "      <th>8984</th>\n",
       "      <td>The realization in the late 1970s that RAS har...</td>\n",
       "    </tr>\n",
       "    <tr>\n",
       "      <th>8985</th>\n",
       "      <td>Hemizygous deletions are common molecular abno...</td>\n",
       "    </tr>\n",
       "    <tr>\n",
       "      <th>8986</th>\n",
       "      <td>All most R267W of has with to SMARTpool invest...</td>\n",
       "    </tr>\n",
       "    <tr>\n",
       "      <th>8987</th>\n",
       "      <td>Abstract Blood samples from 125 unrelated fami...</td>\n",
       "    </tr>\n",
       "    <tr>\n",
       "      <th>8988</th>\n",
       "      <td>Loss of DNA mismatch repair (MMR) in humans, m...</td>\n",
       "    </tr>\n",
       "  </tbody>\n",
       "</table>\n",
       "<p>8989 rows × 1 columns</p>\n",
       "</div>"
      ],
      "text/plain": [
       "                                                   Text\n",
       "0     Cyclin-dependent kinases (CDKs) regulate a var...\n",
       "1      Abstract Background  Non-small cell lung canc...\n",
       "2      Abstract Background  Non-small cell lung canc...\n",
       "3     Recent evidence has demonstrated that acquired...\n",
       "4     Oncogenic mutations in the monomeric Casitas B...\n",
       "5     Oncogenic mutations in the monomeric Casitas B...\n",
       "6     Oncogenic mutations in the monomeric Casitas B...\n",
       "7     CBL is a negative regulator of activated recep...\n",
       "8      Abstract Juvenile myelomonocytic leukemia (JM...\n",
       "9      Abstract Juvenile myelomonocytic leukemia (JM...\n",
       "10    Oncogenic mutations in the monomeric Casitas B...\n",
       "11    Noonan syndrome is an autosomal dominant conge...\n",
       "12    Noonan syndrome is an autosomal dominant conge...\n",
       "13    Noonan syndrome is an autosomal dominant conge...\n",
       "14    Oncogenic mutations in the monomeric Casitas B...\n",
       "15    Noonan syndrome is an autosomal dominant conge...\n",
       "16    To determine if residual cylindrical refractiv...\n",
       "17    Acquired uniparental disomy (aUPD) is a common...\n",
       "18    Oncogenic mutations in the monomeric Casitas B...\n",
       "19    Acquired uniparental disomy (aUPD) is a common...\n",
       "20     Abstract Background  Non-small cell lung canc...\n",
       "21    Oncogenic mutations in the monomeric Casitas B...\n",
       "22    Oncogenic mutations in the monomeric Casitas B...\n",
       "23    Recent evidence has demonstrated that acquired...\n",
       "24    Recent evidence has demonstrated that acquired...\n",
       "25    Recent evidence has demonstrated that acquired...\n",
       "26     Abstract N-myristoylation is a common form of...\n",
       "27    Heterozygous mutations in the telomerase compo...\n",
       "28    Sequencing studies have identified many recurr...\n",
       "29    Heterozygous mutations in the telomerase compo...\n",
       "...                                                 ...\n",
       "8959  Using a DNA microarray approach to screen for ...\n",
       "8960  The tumor suppressor protein p53 is inactivate...\n",
       "8961  Mutational analysis of oncogenes is critical f...\n",
       "8962  The serine/threonine protein kinase encoded by...\n",
       "8963  The common participation of oncogenic KRAS pro...\n",
       "8964  EZH2 (enhancer of zeste homolog 2) is a critic...\n",
       "8965  Mutations in the metabolic enzymes isocitrate ...\n",
       "8966  Pancreatic carcinomas with acinar differentiat...\n",
       "8967  β-Catenin-mediated signaling can be constituti...\n",
       "8968  Summary The genetic abnormalities underlying h...\n",
       "8969  Lung cancer is the leading cause of cancer-rel...\n",
       "8970  Summary During the past decade, the treatment ...\n",
       "8971  The transcription factor and tumor suppressor ...\n",
       "8972  Protein tyrosine phosphatase receptor type D (...\n",
       "8973  Sensitizing activating mutations in the tyrosi...\n",
       "8974  Structural rearrangements of chromosome 10 are...\n",
       "8975  Introduction  Production of fertile gametes is...\n",
       "8976  Checkpoint kinase 2 (CHEK2, Chk2) emerges as a...\n",
       "8977  Introduction The telomere sequences at the chr...\n",
       "8978  There are an estimated 1 million cases of brea...\n",
       "8979  As of the occurring responders expression Tabl...\n",
       "8980   Background & Aims: Inherited deleterious muta...\n",
       "8981  Glioblastoma multiforme (GBM) is a lethal brai...\n",
       "8982  Diffuse large B cell lymphoma (DLBCL) is a com...\n",
       "8983  Figure largeDownload these has S818L clones ch...\n",
       "8984  The realization in the late 1970s that RAS har...\n",
       "8985  Hemizygous deletions are common molecular abno...\n",
       "8986  All most R267W of has with to SMARTpool invest...\n",
       "8987  Abstract Blood samples from 125 unrelated fami...\n",
       "8988  Loss of DNA mismatch repair (MMR) in humans, m...\n",
       "\n",
       "[8989 rows x 1 columns]"
      ]
     },
     "execution_count": 56,
     "metadata": {},
     "output_type": "execute_result"
    }
   ],
   "source": [
    "text_docs"
   ]
  },
  {
   "cell_type": "code",
   "execution_count": 57,
   "metadata": {
    "scrolled": true
   },
   "outputs": [
    {
     "name": "stdout",
     "output_type": "stream",
     "text": [
      "CPU times: user 59min 50s, sys: 45.8 s, total: 1h 36s\n",
      "Wall time: 1h 2min 21s\n"
     ]
    }
   ],
   "source": [
    "from sklearn.feature_extraction.text import TfidfVectorizer\n",
    "\n",
    "#define vectorizer parameters\n",
    "tfidf_vectorizer = TfidfVectorizer(max_df=0.8, max_features=15000,min_df=0.2,\n",
    "                                  stop_words='english',\n",
    "                                 use_idf=True, tokenizer=tokenize_and_stem)\n",
    "\n",
    "%time tfidf_matrix = tfidf_vectorizer.fit_transform(text_docs.Text) #fit the vectorizer to synopses\n"
   ]
  },
  {
   "cell_type": "code",
   "execution_count": 58,
   "metadata": {
    "collapsed": true
   },
   "outputs": [],
   "source": [
    "with open('tfidf_matrix_15000_f.pickle','wb') as f:\n",
    "\t\tpickle.dump(tfidf_matrix,f)\n"
   ]
  },
  {
   "cell_type": "code",
   "execution_count": 148,
   "metadata": {
    "collapsed": true
   },
   "outputs": [],
   "source": [
    "tfidf_matrix = pickle.load( open( \"tfidf_matrix_1000_f.pickle\", \"rb\" ) )"
   ]
  },
  {
   "cell_type": "code",
   "execution_count": 59,
   "metadata": {},
   "outputs": [
    {
     "name": "stdout",
     "output_type": "stream",
     "text": [
      "(3321, 2379)\n",
      "(5668, 2379)\n"
     ]
    }
   ],
   "source": [
    "train_tfidf_matrix=tfidf_matrix[:3321]\n",
    "test_tfidf_matrix=tfidf_matrix[3321:]\n",
    "print train_tfidf_matrix.shape\n",
    "print test_tfidf_matrix.shape"
   ]
  },
  {
   "cell_type": "code",
   "execution_count": 60,
   "metadata": {
    "collapsed": true
   },
   "outputs": [],
   "source": [
    "from sklearn.decomposition import TruncatedSVD\n",
    "from sklearn.random_projection import sparse_random_matrix\n"
   ]
  },
  {
   "cell_type": "code",
   "execution_count": null,
   "metadata": {
    "collapsed": true
   },
   "outputs": [],
   "source": [
    "variance_list=[]\n",
    "for i in range(191):\n",
    "    svd = TruncatedSVD(n_components=i, n_iter=7, random_state=42)\n",
    "    svd.fit(tfidf_matrix) \n",
    "    #print(svd.explained_variance_ratio_)\n",
    "    #print(svd.explained_variance_ratio_.sum())\n",
    "    variance_list.append(svd.explained_variance_ratio_.sum()*100)"
   ]
  },
  {
   "cell_type": "code",
   "execution_count": 210,
   "metadata": {},
   "outputs": [
    {
     "ename": "NameError",
     "evalue": "name 'variance_list' is not defined",
     "output_type": "error",
     "traceback": [
      "\u001b[0;31m---------------------------------------------------------------------------\u001b[0m",
      "\u001b[0;31mNameError\u001b[0m                                 Traceback (most recent call last)",
      "\u001b[0;32m<ipython-input-210-2ca6bf04de07>\u001b[0m in \u001b[0;36m<module>\u001b[0;34m()\u001b[0m\n\u001b[1;32m      1\u001b[0m \u001b[0;32mimport\u001b[0m \u001b[0mmatplotlib\u001b[0m\u001b[0;34m.\u001b[0m\u001b[0mpyplot\u001b[0m \u001b[0;32mas\u001b[0m \u001b[0mplt\u001b[0m\u001b[0;34m\u001b[0m\u001b[0m\n\u001b[0;32m----> 2\u001b[0;31m \u001b[0mplt\u001b[0m\u001b[0;34m.\u001b[0m\u001b[0mplot\u001b[0m\u001b[0;34m(\u001b[0m\u001b[0mvariance_list\u001b[0m\u001b[0;34m)\u001b[0m\u001b[0;34m\u001b[0m\u001b[0m\n\u001b[0m\u001b[1;32m      3\u001b[0m \u001b[0mplt\u001b[0m\u001b[0;34m.\u001b[0m\u001b[0mylabel\u001b[0m\u001b[0;34m(\u001b[0m\u001b[0;34m'% Variance Explained'\u001b[0m\u001b[0;34m)\u001b[0m\u001b[0;34m\u001b[0m\u001b[0m\n\u001b[1;32m      4\u001b[0m \u001b[0mplt\u001b[0m\u001b[0;34m.\u001b[0m\u001b[0mxlabel\u001b[0m\u001b[0;34m(\u001b[0m\u001b[0;34m'Number of Componenets Selected'\u001b[0m\u001b[0;34m)\u001b[0m\u001b[0;34m\u001b[0m\u001b[0m\n\u001b[1;32m      5\u001b[0m \u001b[0mplt\u001b[0m\u001b[0;34m.\u001b[0m\u001b[0mshow\u001b[0m\u001b[0;34m(\u001b[0m\u001b[0;34m)\u001b[0m\u001b[0;34m\u001b[0m\u001b[0m\n",
      "\u001b[0;31mNameError\u001b[0m: name 'variance_list' is not defined"
     ]
    }
   ],
   "source": [
    "import matplotlib.pyplot as plt\n",
    "plt.plot(variance_list)\n",
    "plt.ylabel('% Variance Explained')\n",
    "plt.xlabel('Number of Componenets Selected')\n",
    "plt.show()"
   ]
  },
  {
   "cell_type": "code",
   "execution_count": 211,
   "metadata": {},
   "outputs": [
    {
     "ename": "NameError",
     "evalue": "name 'variance_list' is not defined",
     "output_type": "error",
     "traceback": [
      "\u001b[0;31m---------------------------------------------------------------------------\u001b[0m",
      "\u001b[0;31mNameError\u001b[0m                                 Traceback (most recent call last)",
      "\u001b[0;32m<ipython-input-211-9a031c45e6d7>\u001b[0m in \u001b[0;36m<module>\u001b[0;34m()\u001b[0m\n\u001b[1;32m      1\u001b[0m \u001b[0;32mwith\u001b[0m \u001b[0mopen\u001b[0m\u001b[0;34m(\u001b[0m\u001b[0;34m'variance_list.pickle'\u001b[0m\u001b[0;34m,\u001b[0m\u001b[0;34m'wb'\u001b[0m\u001b[0;34m)\u001b[0m \u001b[0;32mas\u001b[0m \u001b[0mf\u001b[0m\u001b[0;34m:\u001b[0m\u001b[0;34m\u001b[0m\u001b[0m\n\u001b[0;32m----> 2\u001b[0;31m                 \u001b[0mpickle\u001b[0m\u001b[0;34m.\u001b[0m\u001b[0mdump\u001b[0m\u001b[0;34m(\u001b[0m\u001b[0mvariance_list\u001b[0m\u001b[0;34m,\u001b[0m\u001b[0mf\u001b[0m\u001b[0;34m)\u001b[0m\u001b[0;34m\u001b[0m\u001b[0m\n\u001b[0m",
      "\u001b[0;31mNameError\u001b[0m: name 'variance_list' is not defined"
     ]
    }
   ],
   "source": [
    "with open('variance_list.pickle','wb') as f:\n",
    "\t\tpickle.dump(variance_list,f)"
   ]
  },
  {
   "cell_type": "code",
   "execution_count": 61,
   "metadata": {
    "collapsed": true
   },
   "outputs": [],
   "source": [
    "selected_svd=TruncatedSVD(n_components=500, n_iter=7, random_state=42)\n",
    "#"
   ]
  },
  {
   "cell_type": "code",
   "execution_count": 62,
   "metadata": {},
   "outputs": [
    {
     "name": "stdout",
     "output_type": "stream",
     "text": [
      "(3321, 500)\n",
      "(5668, 500)\n"
     ]
    }
   ],
   "source": [
    "SVD_data=selected_svd.fit_transform(train_tfidf_matrix)\n",
    "SVD_data=pd.DataFrame(SVD_data)\n",
    "print SVD_data.shape\n",
    "SVD_data_test=selected_svd.fit_transform(test_tfidf_matrix)\n",
    "SVD_data_test=pd.DataFrame(SVD_data_test)\n",
    "print SVD_data_test.shape"
   ]
  },
  {
   "cell_type": "code",
   "execution_count": null,
   "metadata": {
    "collapsed": true
   },
   "outputs": [],
   "source": []
  },
  {
   "cell_type": "code",
   "execution_count": 63,
   "metadata": {},
   "outputs": [
    {
     "data": {
      "text/plain": [
       "(5668, 4)"
      ]
     },
     "execution_count": 63,
     "metadata": {},
     "output_type": "execute_result"
    }
   ],
   "source": [
    "#train_dummies= pd.get_dummies(final, prefix='Category_', columns=['Gene','Variation'])\n",
    "#test_dummies=pd.get_dummies(final_test, prefix='Category_', columns=['Gene','Variation'])\n",
    "train_dummies=final\n",
    "test_dummies=final_test\n",
    "test_dummies.shape"
   ]
  },
  {
   "cell_type": "code",
   "execution_count": null,
   "metadata": {
    "collapsed": true,
    "scrolled": true
   },
   "outputs": [],
   "source": []
  },
  {
   "cell_type": "code",
   "execution_count": 64,
   "metadata": {
    "collapsed": true
   },
   "outputs": [],
   "source": [
    "train_dummies.drop(\"Text\",axis=1,inplace=True)\n",
    "test_dummies.drop(\"Text\",axis=1,inplace=True)"
   ]
  },
  {
   "cell_type": "code",
   "execution_count": 65,
   "metadata": {
    "scrolled": true
   },
   "outputs": [
    {
     "name": "stdout",
     "output_type": "stream",
     "text": [
      "   ID    Gene             Variation  Class\n",
      "0   0  FAM58A  Truncating Mutations      1\n",
      "1   1     CBL                 W802*      2\n",
      "   ID   Gene Variation\n",
      "0   0  ACSL4     R570S\n",
      "1   1  NAGLU     P521L\n"
     ]
    }
   ],
   "source": [
    "print train_dummies.head(2)\n",
    "print test_dummies.head(2)\n",
    "train_dummies.drop([\"Variation\",\"Gene\"],axis=1,inplace=True)\n",
    "test_dummies.drop([\"Variation\",\"Gene\"],axis=1,inplace=True)"
   ]
  },
  {
   "cell_type": "code",
   "execution_count": 66,
   "metadata": {},
   "outputs": [
    {
     "data": {
      "text/html": [
       "<div>\n",
       "<table border=\"1\" class=\"dataframe\">\n",
       "  <thead>\n",
       "    <tr style=\"text-align: right;\">\n",
       "      <th></th>\n",
       "      <th>ID</th>\n",
       "      <th>Class</th>\n",
       "    </tr>\n",
       "  </thead>\n",
       "  <tbody>\n",
       "    <tr>\n",
       "      <th>0</th>\n",
       "      <td>0</td>\n",
       "      <td>1</td>\n",
       "    </tr>\n",
       "    <tr>\n",
       "      <th>1</th>\n",
       "      <td>1</td>\n",
       "      <td>2</td>\n",
       "    </tr>\n",
       "  </tbody>\n",
       "</table>\n",
       "</div>"
      ],
      "text/plain": [
       "   ID  Class\n",
       "0   0      1\n",
       "1   1      2"
      ]
     },
     "execution_count": 66,
     "metadata": {},
     "output_type": "execute_result"
    }
   ],
   "source": [
    "train_dummies.head(2)"
   ]
  },
  {
   "cell_type": "code",
   "execution_count": 67,
   "metadata": {},
   "outputs": [
    {
     "name": "stdout",
     "output_type": "stream",
     "text": [
      "(3321, 500)\n",
      "(5668, 500)\n",
      "(3321, 2)\n",
      "(5668, 1)\n"
     ]
    }
   ],
   "source": [
    "print SVD_data.shape\n",
    "print SVD_data_test.shape\n",
    "print train_dummies.shape\n",
    "print test_dummies.shape"
   ]
  },
  {
   "cell_type": "code",
   "execution_count": 68,
   "metadata": {
    "collapsed": true,
    "scrolled": true
   },
   "outputs": [],
   "source": [
    "train_SVD=SVD_data.merge(train_dummies,left_index=True,right_index=True)\n",
    "test_SVD=SVD_data_test.merge(test_dummies,left_index=True,right_index=True)\n"
   ]
  },
  {
   "cell_type": "code",
   "execution_count": 69,
   "metadata": {},
   "outputs": [
    {
     "name": "stdout",
     "output_type": "stream",
     "text": [
      "(3321, 502)\n",
      "(5668, 501)\n"
     ]
    }
   ],
   "source": [
    "print train_SVD.shape\n",
    "print test_SVD.shape"
   ]
  },
  {
   "cell_type": "code",
   "execution_count": 70,
   "metadata": {
    "collapsed": true,
    "scrolled": true
   },
   "outputs": [],
   "source": [
    "\n",
    "train_SVD.head(2)\n",
    "train_SVD.drop(\"ID\",axis=1,inplace=True)"
   ]
  },
  {
   "cell_type": "code",
   "execution_count": 71,
   "metadata": {
    "scrolled": true
   },
   "outputs": [
    {
     "name": "stdout",
     "output_type": "stream",
     "text": [
      "(2325, 501)\n",
      "(996, 501)\n"
     ]
    },
    {
     "name": "stderr",
     "output_type": "stream",
     "text": [
      "/Users/deepakmahapatra/anaconda/lib/python2.7/site-packages/sklearn/cross_validation.py:44: DeprecationWarning: This module was deprecated in version 0.18 in favor of the model_selection module into which all the refactored classes and functions are moved. Also note that the interface of the new CV iterators are different from that of this module. This module will be removed in 0.20.\n",
      "  \"This module will be removed in 0.20.\", DeprecationWarning)\n"
     ]
    }
   ],
   "source": [
    "from sklearn.cross_validation import train_test_split\n",
    "\n",
    "# Generate the training set.  Set random_state to be able to replicate results.\n",
    "train1_SVD = train_SVD.sample(frac=0.7, random_state=1)\n",
    "# Select anything not in the training set and put it in the testing set.\n",
    "test1_SVD = train_SVD.loc[~train_SVD.index.isin(train1_SVD.index)]\n",
    "# Print the shapes of both sets.\n",
    "#train_SVD.drop([\"Variation\",\"Gene\"],axis=1,inplace=True)\n",
    "#test_SVD.drop([\"Variation\",\"Gene\"],axis=1,inplace=True)\n",
    "print(train1_SVD.shape)\n",
    "print(test1_SVD.shape)\n",
    "#train_SVD.Class=train_SVD.Class-1\n",
    "label_train1_SVD=(train1_SVD.pop(\"Class\"))\n",
    "label_test1_SVD=(test1_SVD.pop(\"Class\"))"
   ]
  },
  {
   "cell_type": "code",
   "execution_count": 73,
   "metadata": {
    "collapsed": true,
    "scrolled": true
   },
   "outputs": [],
   "source": [
    "train_SVD.drop([\"ID\"],axis=1,inplace=True)\n",
    "\n",
    "test_SVD.drop([\"ID\"],axis=1,inplace=True)\n"
   ]
  },
  {
   "cell_type": "code",
   "execution_count": 74,
   "metadata": {
    "collapsed": true,
    "scrolled": true
   },
   "outputs": [],
   "source": [
    "train_SVD.Class=train_SVD.Class-1"
   ]
  },
  {
   "cell_type": "code",
   "execution_count": null,
   "metadata": {
    "collapsed": true,
    "scrolled": true
   },
   "outputs": [],
   "source": [
    "\n"
   ]
  },
  {
   "cell_type": "code",
   "execution_count": 75,
   "metadata": {
    "collapsed": true
   },
   "outputs": [],
   "source": [
    "train_SVD.to_csv(\"Train500.csv\")\n",
    "test_SVD.to_csv(\"Test500.csv\")"
   ]
  },
  {
   "cell_type": "code",
   "execution_count": 76,
   "metadata": {},
   "outputs": [
    {
     "name": "stdout",
     "output_type": "stream",
     "text": [
      "(3321,)\n"
     ]
    }
   ],
   "source": [
    "label_train_SVD=(train_SVD.pop(\"Class\"))\n",
    "#label_test_SVD=test_SVD.pop(\"Class\")\n",
    "print label_train_SVD.shape\n",
    "#print label_test.shape\n",
    "\n"
   ]
  },
  {
   "cell_type": "code",
   "execution_count": 172,
   "metadata": {
    "collapsed": true
   },
   "outputs": [],
   "source": [
    "#train_y=train1_SVD.pop(\"Class\")\n",
    "#test_y=test1_SVD.pop(\"Class\")"
   ]
  },
  {
   "cell_type": "code",
   "execution_count": 173,
   "metadata": {
    "collapsed": true
   },
   "outputs": [],
   "source": [
    "#train_x=train1_SVD\n",
    "#test_x=test1_SVD\n"
   ]
  },
  {
   "cell_type": "code",
   "execution_count": 198,
   "metadata": {},
   "outputs": [
    {
     "data": {
      "text/plain": [
       "matrix([[0],\n",
       "        [1],\n",
       "        [1],\n",
       "        ..., \n",
       "        [0],\n",
       "        [3],\n",
       "        [3]])"
      ]
     },
     "execution_count": 198,
     "metadata": {},
     "output_type": "execute_result"
    }
   ],
   "source": [
    "np.transpose(np.matrix(label_train_SVD))"
   ]
  },
  {
   "cell_type": "code",
   "execution_count": 77,
   "metadata": {
    "collapsed": true
   },
   "outputs": [],
   "source": [
    "import xgboost as xgb\n",
    "from xgboost import XGBClassifier"
   ]
  },
  {
   "cell_type": "code",
   "execution_count": 78,
   "metadata": {
    "collapsed": true
   },
   "outputs": [],
   "source": [
    "#train1_SVD.drop([\"url\",\"urlid\",\"boilerplate\"],inplace=True,axis=1)\n",
    "#test1_SVD.drop([\"url\",\"urlid\",\"boilerplate\"],inplace=True,axis=1)\n",
    "dtrain_SVD = xgb.DMatrix( train_SVD, label=label_train_SVD)\n",
    "dtest_SVD= xgb.DMatrix(test_SVD)\n",
    "train_SVD_matrix=xgb.DMatrix( train_SVD)"
   ]
  },
  {
   "cell_type": "code",
   "execution_count": 79,
   "metadata": {
    "scrolled": true
   },
   "outputs": [
    {
     "name": "stdout",
     "output_type": "stream",
     "text": [
      "[0]\ttrain-merror:0.276423\n",
      "[1]\ttrain-merror:0.237579\n",
      "[2]\ttrain-merror:0.224330\n",
      "[3]\ttrain-merror:0.213189\n",
      "[4]\ttrain-merror:0.202048\n",
      "[5]\ttrain-merror:0.197832\n",
      "[6]\ttrain-merror:0.190906\n",
      "[7]\ttrain-merror:0.185486\n",
      "[8]\ttrain-merror:0.180970\n",
      "[9]\ttrain-merror:0.180367\n",
      "[10]\ttrain-merror:0.174345\n",
      "[11]\ttrain-merror:0.172538\n",
      "[12]\ttrain-merror:0.169828\n",
      "[13]\ttrain-merror:0.167721\n",
      "[14]\ttrain-merror:0.165312\n",
      "[15]\ttrain-merror:0.161698\n",
      "[16]\ttrain-merror:0.157483\n",
      "[17]\ttrain-merror:0.156579\n",
      "[18]\ttrain-merror:0.153568\n",
      "[19]\ttrain-merror:0.151762\n",
      "[20]\ttrain-merror:0.148750\n",
      "[21]\ttrain-merror:0.146643\n",
      "[22]\ttrain-merror:0.143029\n",
      "[23]\ttrain-merror:0.140620\n",
      "[24]\ttrain-merror:0.138211\n",
      "[25]\ttrain-merror:0.136405\n",
      "[26]\ttrain-merror:0.133996\n",
      "[27]\ttrain-merror:0.131888\n",
      "[28]\ttrain-merror:0.130382\n",
      "[29]\ttrain-merror:0.128576\n",
      "[30]\ttrain-merror:0.126769\n",
      "[31]\ttrain-merror:0.125263\n",
      "[32]\ttrain-merror:0.124360\n",
      "[33]\ttrain-merror:0.123457\n",
      "[34]\ttrain-merror:0.121650\n",
      "[35]\ttrain-merror:0.120747\n",
      "[36]\ttrain-merror:0.120446\n",
      "[37]\ttrain-merror:0.119542\n",
      "[38]\ttrain-merror:0.119241\n",
      "[39]\ttrain-merror:0.118338\n",
      "[40]\ttrain-merror:0.118037\n",
      "[41]\ttrain-merror:0.117435\n",
      "[42]\ttrain-merror:0.116832\n",
      "[43]\ttrain-merror:0.115929\n",
      "[44]\ttrain-merror:0.115628\n",
      "[45]\ttrain-merror:0.115929\n",
      "[46]\ttrain-merror:0.115628\n",
      "[47]\ttrain-merror:0.114724\n",
      "[48]\ttrain-merror:0.114724\n",
      "[49]\ttrain-merror:0.113821\n"
     ]
    }
   ],
   "source": [
    "param = {}\n",
    "# use softmax multi-class classification\n",
    "param['objective'] = 'multi:softmax'\n",
    "# scale weight of positive examples\n",
    "param['eta'] = 0.1\n",
    "param['max_depth'] = 6\n",
    "param['silent'] = 1\n",
    "param['nthread'] = 4\n",
    "param['num_class'] = 9\n",
    "\n",
    "watchlist = [(dtrain_SVD, 'train')]\n",
    "num_round = 50\n",
    "bst = xgb.train(param, dtrain_SVD, num_round, watchlist)\n",
    "# get prediction\n"
   ]
  },
  {
   "cell_type": "code",
   "execution_count": null,
   "metadata": {
    "collapsed": true
   },
   "outputs": [],
   "source": []
  },
  {
   "cell_type": "code",
   "execution_count": 64,
   "metadata": {
    "collapsed": true,
    "scrolled": true
   },
   "outputs": [],
   "source": [
    "\n",
    "# XGBoost on Otto dataset, Tune learning_rate and n_estimators\n",
    "from pandas import read_csv\n",
    "from xgboost import XGBClassifier\n",
    "from sklearn.model_selection import GridSearchCV\n",
    "from sklearn.model_selection import StratifiedKFold\n",
    "from sklearn.preprocessing import LabelEncoder\n",
    "import matplotlib\n",
    "matplotlib.use('Agg')\n",
    "from matplotlib import pyplot\n",
    "import numpy\n",
    "# load data\n",
    "data = read_csv('Train500.csv',header=None)\n",
    "\n",
    "\n",
    "dataset = data.values\n",
    "# split data into X and y\n",
    "X = dataset[:,0:500]\n",
    "y = dataset[:,500]\n",
    "# encode string class values as integers\n",
    "label_encoded_y = LabelEncoder().fit_transform(y)\n",
    "# grid search\n",
    "param={}\n",
    "\n",
    "#param['num_class'] = 9\n",
    "objective = 'multi:softprob'\n",
    "model = XGBClassifier()\n",
    "n_estimators = [[100, 200]]\n",
    "learning_rate = [[0.01, 0.1]]\n",
    "#min_split_loss=[[0.1,0.2,0]]\n",
    "max_depth=[[4,6,8]]\n",
    "reg_lamda=[[1,2,10]]\n",
    "#reg_alpha=[1,2,10]\n",
    "param=[{\"objective\":'multi:softprob','num_class':9}]\n",
    "from sklearn.model_selection import ParameterGrid\n",
    "\n",
    "param_grid = dict(learning_rate=learning_rate, n_estimators=n_estimators,max_depth=max_depth)\n",
    "param_grid[\"objective\"]=[[\"multi:softprob\"]]\n",
    "param_grid=ParameterGrid(param_grid)\n",
    "\n",
    "#param_grid[\"objective\"]='multi:softprob'\n",
    "kfold = StratifiedKFold(n_splits=9, shuffle=True, random_state=7)\n",
    "grid_search = GridSearchCV(model, list(param_grid), scoring=\"neg_log_loss\", n_jobs=-1, cv=kfold,refit=True)\n",
    "grid_result = grid_search.fit(X, label_encoded_y)"
   ]
  },
  {
   "cell_type": "code",
   "execution_count": 27,
   "metadata": {
    "collapsed": true
   },
   "outputs": [],
   "source": [
    "data = pd.read_csv('Train500.csv',header=None)"
   ]
  },
  {
   "cell_type": "code",
   "execution_count": 65,
   "metadata": {},
   "outputs": [
    {
     "data": {
      "text/plain": [
       "[{'learning_rate': [0.01, 0.1],\n",
       "  'max_depth': [4, 6, 8],\n",
       "  'n_estimators': [100, 200],\n",
       "  'objective': ['multi:softprob']}]"
      ]
     },
     "execution_count": 65,
     "metadata": {},
     "output_type": "execute_result"
    }
   ],
   "source": [
    "list(param_grid)"
   ]
  },
  {
   "cell_type": "code",
   "execution_count": 62,
   "metadata": {},
   "outputs": [
    {
     "data": {
      "text/plain": [
       "<bound method XGBClassifier.get_params of XGBClassifier(base_score=0.5, colsample_bylevel=1, colsample_bytree=1,\n",
       "       gamma=0, learning_rate=0.1, max_delta_step=0, max_depth=3,\n",
       "       min_child_weight=1, missing=None, n_estimators=100, nthread=-1,\n",
       "       objective='binary:logistic', reg_alpha=0, reg_lambda=1,\n",
       "       scale_pos_weight=1, seed=0, silent=True, subsample=1)>"
      ]
     },
     "execution_count": 62,
     "metadata": {},
     "output_type": "execute_result"
    }
   ],
   "source": [
    "model.get_params"
   ]
  },
  {
   "cell_type": "code",
   "execution_count": 69,
   "metadata": {
    "collapsed": true
   },
   "outputs": [],
   "source": [
    "test=pd.read_csv(\"Test500.csv\")\n",
    "test=test.drop(\"Unnamed: 0\",axis=1)\n",
    "test_values=test.values"
   ]
  },
  {
   "cell_type": "code",
   "execution_count": 66,
   "metadata": {
    "collapsed": true,
    "scrolled": true
   },
   "outputs": [],
   "source": [
    "with open('grid_result_29.pickle','wb') as f:\n",
    "\t\tpickle.dump(grid_result,f)"
   ]
  },
  {
   "cell_type": "code",
   "execution_count": 9,
   "metadata": {},
   "outputs": [
    {
     "name": "stderr",
     "output_type": "stream",
     "text": [
      "/Users/deepakmahapatra/anaconda/lib/python2.7/site-packages/sklearn/cross_validation.py:44: DeprecationWarning: This module was deprecated in version 0.18 in favor of the model_selection module into which all the refactored classes and functions are moved. Also note that the interface of the new CV iterators are different from that of this module. This module will be removed in 0.20.\n",
      "  \"This module will be removed in 0.20.\", DeprecationWarning)\n"
     ]
    }
   ],
   "source": [
    "grid_result=pickle.load( open( \"grid_result.pickle\", \"rb\" ) )"
   ]
  },
  {
   "cell_type": "code",
   "execution_count": 2,
   "metadata": {
    "collapsed": true,
    "scrolled": true
   },
   "outputs": [],
   "source": [
    "import pandas as pd\n",
    "import pickle"
   ]
  },
  {
   "cell_type": "code",
   "execution_count": null,
   "metadata": {
    "collapsed": true
   },
   "outputs": [],
   "source": []
  },
  {
   "cell_type": "code",
   "execution_count": 71,
   "metadata": {
    "collapsed": true
   },
   "outputs": [],
   "source": [
    "bst=grid_result.predict(test_values)"
   ]
  },
  {
   "cell_type": "code",
   "execution_count": 17,
   "metadata": {},
   "outputs": [
    {
     "data": {
      "text/plain": [
       "{'learning_rate': 0.1, 'n_estimators': 200}"
      ]
     },
     "execution_count": 17,
     "metadata": {},
     "output_type": "execute_result"
    }
   ],
   "source": [
    "grid_result.best_params_"
   ]
  },
  {
   "cell_type": "code",
   "execution_count": 72,
   "metadata": {
    "collapsed": true
   },
   "outputs": [],
   "source": [
    "result_from_grid=grid_result.best_estimator_.predict_proba(test_values)"
   ]
  },
  {
   "cell_type": "code",
   "execution_count": null,
   "metadata": {
    "collapsed": true,
    "scrolled": true
   },
   "outputs": [],
   "source": [
    "#Parameter grid search with xgboost\n",
    "#feature engineering is not so useful and the LB is so overfitted/underfitted\n",
    "#so it is good to trust your CV\n",
    "\n",
    "#go xgboost, go mxnet, go DMLC! http://dmlc.ml \n",
    "\n",
    "#Credit to Shize's R code and the python re-implementation\n",
    "\n",
    "import pandas as pd\n",
    "import numpy as np\n",
    "import xgboost as xgb\n",
    "from sklearn import preprocessing\n",
    "from sklearn.cross_validation import train_test_split\n",
    "\n",
    "from sklearn.cross_validation import *\n",
    "from sklearn.grid_search import GridSearchCV\n",
    "\n",
    "\n",
    "xgb_model = xgb.XGBClassifier()\n",
    "\n",
    "#brute force scan for all parameters, here are the tricks\n",
    "#usually max_depth is 6,7,8\n",
    "#learning rate is around 0.05, but small changes may make big diff\n",
    "#tuning min_child_weight subsample colsample_bytree can have \n",
    "#much fun of fighting against overfit \n",
    "#n_estimators is how many round of boosting\n",
    "#finally, ensemble xgboost with multiple seeds may reduce variance\n",
    "parameters = { #when use hyperthread, xgboost may become slower\n",
    "              'objective':['multi:softmax'],\n",
    "              'learning_rate': [0.05], #so called `eta` value\n",
    "              'max_depth': [6],\n",
    "              \n",
    "              'min_child_weight': [11],\n",
    "              \n",
    "              \n",
    "              'n_estimators': [5], #number of trees, change it to 1000 for better results\n",
    "              'seed': [1337]}\n",
    "\n",
    "\n",
    "clf = GridSearchCV(xgb_model, parameters, n_jobs=5,cv=kfold, \n",
    "                   scoring='neg_log_loss',\n",
    "                   verbose=2, refit=True)\n",
    "#eval_set=[(X_train, y_train), (X_test, y_test)], eval_metric=’logloss’, verbose=True)\n",
    "\n",
    "clf.fit(train_SVD, label_train_SVD)\n"
   ]
  },
  {
   "cell_type": "code",
   "execution_count": 239,
   "metadata": {},
   "outputs": [
    {
     "data": {
      "text/plain": [
       "['reg_alpha',\n",
       " 'colsample_bytree',\n",
       " 'silent',\n",
       " 'colsample_bylevel',\n",
       " 'scale_pos_weight',\n",
       " 'learning_rate',\n",
       " 'missing',\n",
       " 'max_delta_step',\n",
       " 'nthread',\n",
       " 'base_score',\n",
       " 'n_estimators',\n",
       " 'subsample',\n",
       " 'reg_lambda',\n",
       " 'seed',\n",
       " 'min_child_weight',\n",
       " 'objective',\n",
       " 'max_depth',\n",
       " 'gamma']"
      ]
     },
     "execution_count": 239,
     "metadata": {},
     "output_type": "execute_result"
    }
   ],
   "source": [
    "xgb_model.get_params().keys()"
   ]
  },
  {
   "cell_type": "code",
   "execution_count": null,
   "metadata": {
    "collapsed": true
   },
   "outputs": [],
   "source": [
    "# summarize results\n",
    "print(\"Best: %f using %s\" % (grid_result.best_score_, grid_result.best_params_))\n",
    "means = grid_result.cv_results_['mean_test_score']\n",
    "stds = grid_result.cv_results_['std_test_score']\n",
    "params = grid_result.cv_results_['params']\n",
    "for mean, stdev, param in zip(means, stds, params):\n",
    "\tprint(\"%f (%f) with: %r\" % (mean, stdev, param))\n",
    "# plot\n",
    "pyplot.errorbar(learning_rate, means, yerr=stds)\n",
    "pyplot.title(\"XGBoost learning_rate vs Log Loss\")\n",
    "pyplot.xlabel('learning_rate')\n",
    "pyplot.ylabel('Log Loss')\n",
    "pyplot.savefig('learning_rate.png')"
   ]
  },
  {
   "cell_type": "code",
   "execution_count": 540,
   "metadata": {
    "collapsed": true
   },
   "outputs": [],
   "source": [
    "#param = {'bst:max_depth':10, 'bst:eta':0.5, 'silent':1, 'objective':'multi:softmax' }\n",
    "#param['nthread'] = 4\n",
    "#param['eval_metric'] = 'auc'\n",
    "#param['num_class'] = 9\n",
    "#evallist  = [(dtest_SVD,'eval'), (dtrain_SVD,'train')]\n"
   ]
  },
  {
   "cell_type": "code",
   "execution_count": 541,
   "metadata": {
    "collapsed": true
   },
   "outputs": [],
   "source": [
    "#num_round = 10\n",
    "#bstSVD = xgb.train( param, dtrain_SVD, num_round, evallist )"
   ]
  },
  {
   "cell_type": "code",
   "execution_count": 542,
   "metadata": {
    "collapsed": true
   },
   "outputs": [],
   "source": [
    "pred = bst.predict(dtrain_SVD)+1"
   ]
  },
  {
   "cell_type": "code",
   "execution_count": 49,
   "metadata": {
    "collapsed": true
   },
   "outputs": [],
   "source": []
  },
  {
   "cell_type": "code",
   "execution_count": null,
   "metadata": {
    "collapsed": true
   },
   "outputs": [],
   "source": []
  },
  {
   "cell_type": "code",
   "execution_count": 80,
   "metadata": {
    "scrolled": true
   },
   "outputs": [
    {
     "name": "stdout",
     "output_type": "stream",
     "text": [
      "[0]\ttrain-merror:0.276423\n",
      "[1]\ttrain-merror:0.237579\n",
      "[2]\ttrain-merror:0.224330\n",
      "[3]\ttrain-merror:0.213189\n",
      "[4]\ttrain-merror:0.202048\n",
      "[5]\ttrain-merror:0.197832\n",
      "[6]\ttrain-merror:0.190906\n",
      "[7]\ttrain-merror:0.185486\n",
      "[8]\ttrain-merror:0.180970\n",
      "[9]\ttrain-merror:0.180367\n",
      "[10]\ttrain-merror:0.174345\n",
      "[11]\ttrain-merror:0.172538\n",
      "[12]\ttrain-merror:0.169828\n",
      "[13]\ttrain-merror:0.167721\n",
      "[14]\ttrain-merror:0.165312\n",
      "[15]\ttrain-merror:0.161698\n",
      "[16]\ttrain-merror:0.157483\n",
      "[17]\ttrain-merror:0.156579\n",
      "[18]\ttrain-merror:0.153568\n",
      "[19]\ttrain-merror:0.151762\n",
      "[20]\ttrain-merror:0.148750\n",
      "[21]\ttrain-merror:0.146643\n",
      "[22]\ttrain-merror:0.143029\n",
      "[23]\ttrain-merror:0.140620\n",
      "[24]\ttrain-merror:0.138211\n",
      "[25]\ttrain-merror:0.136405\n",
      "[26]\ttrain-merror:0.133996\n",
      "[27]\ttrain-merror:0.131888\n",
      "[28]\ttrain-merror:0.130382\n",
      "[29]\ttrain-merror:0.128576\n",
      "[30]\ttrain-merror:0.126769\n",
      "[31]\ttrain-merror:0.125263\n",
      "[32]\ttrain-merror:0.124360\n",
      "[33]\ttrain-merror:0.123457\n",
      "[34]\ttrain-merror:0.121650\n",
      "[35]\ttrain-merror:0.120747\n",
      "[36]\ttrain-merror:0.120446\n",
      "[37]\ttrain-merror:0.119542\n",
      "[38]\ttrain-merror:0.119241\n",
      "[39]\ttrain-merror:0.118338\n",
      "[40]\ttrain-merror:0.118037\n",
      "[41]\ttrain-merror:0.117435\n",
      "[42]\ttrain-merror:0.116832\n",
      "[43]\ttrain-merror:0.115929\n",
      "[44]\ttrain-merror:0.115628\n",
      "[45]\ttrain-merror:0.115929\n",
      "[46]\ttrain-merror:0.115628\n",
      "[47]\ttrain-merror:0.114724\n",
      "[48]\ttrain-merror:0.114724\n",
      "[49]\ttrain-merror:0.113821\n"
     ]
    }
   ],
   "source": [
    "param = {}\n",
    "# use softmax multi-class classification\n",
    "param['objective'] = 'multi:softprob'\n",
    "# scale weight of positive examples\n",
    "param['eta'] = 0.1\n",
    "param['max_depth'] = 6\n",
    "param['silent'] = 1\n",
    "param['nthread'] = 4\n",
    "param['num_class'] = 9\n",
    "\n",
    "watchlist = [(dtrain_SVD, 'train')]\n",
    "num_round = 15\n",
    "bst = xgb.train(param, dtrain_SVD, num_round, watchlist)\n",
    "# get prediction"
   ]
  },
  {
   "cell_type": "code",
   "execution_count": 81,
   "metadata": {
    "collapsed": true
   },
   "outputs": [],
   "source": [
    "pred_prob = bst.predict(dtest_SVD).reshape(test_SVD.shape[0], 9)\n",
    "#pred_label = np.argmax(pred_prob, axis=1)\n",
    "#error_rate = np.sum(pred_label != label_train_SVD) / label_train_SVD.shape[0]"
   ]
  },
  {
   "cell_type": "code",
   "execution_count": 87,
   "metadata": {
    "scrolled": true
   },
   "outputs": [
    {
     "data": {
      "text/html": [
       "<div>\n",
       "<table border=\"1\" class=\"dataframe\">\n",
       "  <thead>\n",
       "    <tr style=\"text-align: right;\">\n",
       "      <th></th>\n",
       "      <th>class1</th>\n",
       "      <th>class2</th>\n",
       "      <th>class3</th>\n",
       "      <th>class4</th>\n",
       "      <th>class5</th>\n",
       "      <th>class6</th>\n",
       "      <th>class7</th>\n",
       "      <th>class8</th>\n",
       "      <th>class9</th>\n",
       "    </tr>\n",
       "  </thead>\n",
       "  <tbody>\n",
       "    <tr>\n",
       "      <th>0</th>\n",
       "      <td>0.217152</td>\n",
       "      <td>0.040285</td>\n",
       "      <td>0.018093</td>\n",
       "      <td>0.433761</td>\n",
       "      <td>0.051767</td>\n",
       "      <td>0.014652</td>\n",
       "      <td>0.202038</td>\n",
       "      <td>0.011526</td>\n",
       "      <td>0.010725</td>\n",
       "    </tr>\n",
       "    <tr>\n",
       "      <th>1</th>\n",
       "      <td>0.021738</td>\n",
       "      <td>0.497490</td>\n",
       "      <td>0.024642</td>\n",
       "      <td>0.094906</td>\n",
       "      <td>0.038192</td>\n",
       "      <td>0.046334</td>\n",
       "      <td>0.238715</td>\n",
       "      <td>0.019987</td>\n",
       "      <td>0.017996</td>\n",
       "    </tr>\n",
       "    <tr>\n",
       "      <th>2</th>\n",
       "      <td>0.119016</td>\n",
       "      <td>0.103393</td>\n",
       "      <td>0.014961</td>\n",
       "      <td>0.149527</td>\n",
       "      <td>0.051417</td>\n",
       "      <td>0.025107</td>\n",
       "      <td>0.512518</td>\n",
       "      <td>0.013005</td>\n",
       "      <td>0.011057</td>\n",
       "    </tr>\n",
       "    <tr>\n",
       "      <th>3</th>\n",
       "      <td>0.101753</td>\n",
       "      <td>0.186364</td>\n",
       "      <td>0.026325</td>\n",
       "      <td>0.017767</td>\n",
       "      <td>0.018478</td>\n",
       "      <td>0.046546</td>\n",
       "      <td>0.580879</td>\n",
       "      <td>0.011414</td>\n",
       "      <td>0.010475</td>\n",
       "    </tr>\n",
       "    <tr>\n",
       "      <th>4</th>\n",
       "      <td>0.652957</td>\n",
       "      <td>0.015073</td>\n",
       "      <td>0.019614</td>\n",
       "      <td>0.109611</td>\n",
       "      <td>0.097625</td>\n",
       "      <td>0.057076</td>\n",
       "      <td>0.017409</td>\n",
       "      <td>0.013454</td>\n",
       "      <td>0.017183</td>\n",
       "    </tr>\n",
       "    <tr>\n",
       "      <th>5</th>\n",
       "      <td>0.101519</td>\n",
       "      <td>0.434508</td>\n",
       "      <td>0.011106</td>\n",
       "      <td>0.128583</td>\n",
       "      <td>0.041189</td>\n",
       "      <td>0.037842</td>\n",
       "      <td>0.218875</td>\n",
       "      <td>0.012794</td>\n",
       "      <td>0.013585</td>\n",
       "    </tr>\n",
       "    <tr>\n",
       "      <th>6</th>\n",
       "      <td>0.425444</td>\n",
       "      <td>0.021562</td>\n",
       "      <td>0.047998</td>\n",
       "      <td>0.253819</td>\n",
       "      <td>0.110143</td>\n",
       "      <td>0.054466</td>\n",
       "      <td>0.042214</td>\n",
       "      <td>0.019494</td>\n",
       "      <td>0.024860</td>\n",
       "    </tr>\n",
       "    <tr>\n",
       "      <th>7</th>\n",
       "      <td>0.201623</td>\n",
       "      <td>0.365711</td>\n",
       "      <td>0.013871</td>\n",
       "      <td>0.121227</td>\n",
       "      <td>0.034544</td>\n",
       "      <td>0.042352</td>\n",
       "      <td>0.193682</td>\n",
       "      <td>0.014528</td>\n",
       "      <td>0.012463</td>\n",
       "    </tr>\n",
       "    <tr>\n",
       "      <th>8</th>\n",
       "      <td>0.235558</td>\n",
       "      <td>0.170395</td>\n",
       "      <td>0.007635</td>\n",
       "      <td>0.227899</td>\n",
       "      <td>0.032146</td>\n",
       "      <td>0.124325</td>\n",
       "      <td>0.184784</td>\n",
       "      <td>0.010550</td>\n",
       "      <td>0.006707</td>\n",
       "    </tr>\n",
       "    <tr>\n",
       "      <th>9</th>\n",
       "      <td>0.177793</td>\n",
       "      <td>0.116369</td>\n",
       "      <td>0.012788</td>\n",
       "      <td>0.396404</td>\n",
       "      <td>0.038406</td>\n",
       "      <td>0.053964</td>\n",
       "      <td>0.181312</td>\n",
       "      <td>0.011775</td>\n",
       "      <td>0.011188</td>\n",
       "    </tr>\n",
       "    <tr>\n",
       "      <th>10</th>\n",
       "      <td>0.095033</td>\n",
       "      <td>0.046242</td>\n",
       "      <td>0.073894</td>\n",
       "      <td>0.179778</td>\n",
       "      <td>0.188281</td>\n",
       "      <td>0.258285</td>\n",
       "      <td>0.072512</td>\n",
       "      <td>0.043297</td>\n",
       "      <td>0.042677</td>\n",
       "    </tr>\n",
       "    <tr>\n",
       "      <th>11</th>\n",
       "      <td>0.075728</td>\n",
       "      <td>0.033222</td>\n",
       "      <td>0.037600</td>\n",
       "      <td>0.101150</td>\n",
       "      <td>0.187956</td>\n",
       "      <td>0.470140</td>\n",
       "      <td>0.045497</td>\n",
       "      <td>0.024529</td>\n",
       "      <td>0.024178</td>\n",
       "    </tr>\n",
       "    <tr>\n",
       "      <th>12</th>\n",
       "      <td>0.493584</td>\n",
       "      <td>0.067629</td>\n",
       "      <td>0.100130</td>\n",
       "      <td>0.139468</td>\n",
       "      <td>0.090889</td>\n",
       "      <td>0.046486</td>\n",
       "      <td>0.028791</td>\n",
       "      <td>0.017277</td>\n",
       "      <td>0.015747</td>\n",
       "    </tr>\n",
       "    <tr>\n",
       "      <th>13</th>\n",
       "      <td>0.034419</td>\n",
       "      <td>0.171400</td>\n",
       "      <td>0.050742</td>\n",
       "      <td>0.013724</td>\n",
       "      <td>0.041370</td>\n",
       "      <td>0.030994</td>\n",
       "      <td>0.622176</td>\n",
       "      <td>0.012378</td>\n",
       "      <td>0.022797</td>\n",
       "    </tr>\n",
       "    <tr>\n",
       "      <th>14</th>\n",
       "      <td>0.213194</td>\n",
       "      <td>0.155132</td>\n",
       "      <td>0.013147</td>\n",
       "      <td>0.428353</td>\n",
       "      <td>0.023869</td>\n",
       "      <td>0.016689</td>\n",
       "      <td>0.133139</td>\n",
       "      <td>0.008858</td>\n",
       "      <td>0.007621</td>\n",
       "    </tr>\n",
       "    <tr>\n",
       "      <th>15</th>\n",
       "      <td>0.347197</td>\n",
       "      <td>0.100754</td>\n",
       "      <td>0.013579</td>\n",
       "      <td>0.193375</td>\n",
       "      <td>0.024845</td>\n",
       "      <td>0.045916</td>\n",
       "      <td>0.254612</td>\n",
       "      <td>0.009932</td>\n",
       "      <td>0.009789</td>\n",
       "    </tr>\n",
       "    <tr>\n",
       "      <th>16</th>\n",
       "      <td>0.116895</td>\n",
       "      <td>0.117352</td>\n",
       "      <td>0.038019</td>\n",
       "      <td>0.105613</td>\n",
       "      <td>0.070052</td>\n",
       "      <td>0.085572</td>\n",
       "      <td>0.380982</td>\n",
       "      <td>0.051818</td>\n",
       "      <td>0.033696</td>\n",
       "    </tr>\n",
       "    <tr>\n",
       "      <th>17</th>\n",
       "      <td>0.275771</td>\n",
       "      <td>0.105024</td>\n",
       "      <td>0.018774</td>\n",
       "      <td>0.121749</td>\n",
       "      <td>0.021696</td>\n",
       "      <td>0.030405</td>\n",
       "      <td>0.403622</td>\n",
       "      <td>0.011637</td>\n",
       "      <td>0.011323</td>\n",
       "    </tr>\n",
       "    <tr>\n",
       "      <th>18</th>\n",
       "      <td>0.123208</td>\n",
       "      <td>0.047081</td>\n",
       "      <td>0.070558</td>\n",
       "      <td>0.150683</td>\n",
       "      <td>0.313733</td>\n",
       "      <td>0.115947</td>\n",
       "      <td>0.091489</td>\n",
       "      <td>0.044573</td>\n",
       "      <td>0.042728</td>\n",
       "    </tr>\n",
       "    <tr>\n",
       "      <th>19</th>\n",
       "      <td>0.267551</td>\n",
       "      <td>0.079828</td>\n",
       "      <td>0.052554</td>\n",
       "      <td>0.219427</td>\n",
       "      <td>0.108876</td>\n",
       "      <td>0.047117</td>\n",
       "      <td>0.184061</td>\n",
       "      <td>0.017477</td>\n",
       "      <td>0.023111</td>\n",
       "    </tr>\n",
       "    <tr>\n",
       "      <th>20</th>\n",
       "      <td>0.072224</td>\n",
       "      <td>0.145454</td>\n",
       "      <td>0.011437</td>\n",
       "      <td>0.117993</td>\n",
       "      <td>0.038567</td>\n",
       "      <td>0.023473</td>\n",
       "      <td>0.560405</td>\n",
       "      <td>0.012559</td>\n",
       "      <td>0.017887</td>\n",
       "    </tr>\n",
       "    <tr>\n",
       "      <th>21</th>\n",
       "      <td>0.460416</td>\n",
       "      <td>0.045678</td>\n",
       "      <td>0.023267</td>\n",
       "      <td>0.302894</td>\n",
       "      <td>0.022735</td>\n",
       "      <td>0.020066</td>\n",
       "      <td>0.038200</td>\n",
       "      <td>0.014938</td>\n",
       "      <td>0.071805</td>\n",
       "    </tr>\n",
       "    <tr>\n",
       "      <th>22</th>\n",
       "      <td>0.220850</td>\n",
       "      <td>0.132195</td>\n",
       "      <td>0.019594</td>\n",
       "      <td>0.346704</td>\n",
       "      <td>0.065881</td>\n",
       "      <td>0.045776</td>\n",
       "      <td>0.132508</td>\n",
       "      <td>0.018474</td>\n",
       "      <td>0.018019</td>\n",
       "    </tr>\n",
       "    <tr>\n",
       "      <th>23</th>\n",
       "      <td>0.175577</td>\n",
       "      <td>0.022174</td>\n",
       "      <td>0.016933</td>\n",
       "      <td>0.442161</td>\n",
       "      <td>0.055798</td>\n",
       "      <td>0.215318</td>\n",
       "      <td>0.037114</td>\n",
       "      <td>0.015768</td>\n",
       "      <td>0.019156</td>\n",
       "    </tr>\n",
       "    <tr>\n",
       "      <th>24</th>\n",
       "      <td>0.072620</td>\n",
       "      <td>0.103745</td>\n",
       "      <td>0.008466</td>\n",
       "      <td>0.030428</td>\n",
       "      <td>0.009383</td>\n",
       "      <td>0.018474</td>\n",
       "      <td>0.742205</td>\n",
       "      <td>0.005704</td>\n",
       "      <td>0.008976</td>\n",
       "    </tr>\n",
       "    <tr>\n",
       "      <th>25</th>\n",
       "      <td>0.055674</td>\n",
       "      <td>0.202793</td>\n",
       "      <td>0.022169</td>\n",
       "      <td>0.046351</td>\n",
       "      <td>0.037771</td>\n",
       "      <td>0.046373</td>\n",
       "      <td>0.548994</td>\n",
       "      <td>0.024804</td>\n",
       "      <td>0.015072</td>\n",
       "    </tr>\n",
       "    <tr>\n",
       "      <th>26</th>\n",
       "      <td>0.293994</td>\n",
       "      <td>0.057871</td>\n",
       "      <td>0.032914</td>\n",
       "      <td>0.130715</td>\n",
       "      <td>0.080758</td>\n",
       "      <td>0.217879</td>\n",
       "      <td>0.127374</td>\n",
       "      <td>0.029534</td>\n",
       "      <td>0.028961</td>\n",
       "    </tr>\n",
       "    <tr>\n",
       "      <th>27</th>\n",
       "      <td>0.104781</td>\n",
       "      <td>0.042514</td>\n",
       "      <td>0.012294</td>\n",
       "      <td>0.511374</td>\n",
       "      <td>0.032281</td>\n",
       "      <td>0.017301</td>\n",
       "      <td>0.255270</td>\n",
       "      <td>0.014115</td>\n",
       "      <td>0.010070</td>\n",
       "    </tr>\n",
       "    <tr>\n",
       "      <th>28</th>\n",
       "      <td>0.031384</td>\n",
       "      <td>0.400737</td>\n",
       "      <td>0.014227</td>\n",
       "      <td>0.040321</td>\n",
       "      <td>0.054320</td>\n",
       "      <td>0.063489</td>\n",
       "      <td>0.365382</td>\n",
       "      <td>0.014608</td>\n",
       "      <td>0.015533</td>\n",
       "    </tr>\n",
       "    <tr>\n",
       "      <th>29</th>\n",
       "      <td>0.026866</td>\n",
       "      <td>0.280677</td>\n",
       "      <td>0.022077</td>\n",
       "      <td>0.120436</td>\n",
       "      <td>0.037561</td>\n",
       "      <td>0.043880</td>\n",
       "      <td>0.442983</td>\n",
       "      <td>0.014753</td>\n",
       "      <td>0.010766</td>\n",
       "    </tr>\n",
       "    <tr>\n",
       "      <th>...</th>\n",
       "      <td>...</td>\n",
       "      <td>...</td>\n",
       "      <td>...</td>\n",
       "      <td>...</td>\n",
       "      <td>...</td>\n",
       "      <td>...</td>\n",
       "      <td>...</td>\n",
       "      <td>...</td>\n",
       "      <td>...</td>\n",
       "    </tr>\n",
       "    <tr>\n",
       "      <th>5638</th>\n",
       "      <td>0.160500</td>\n",
       "      <td>0.039199</td>\n",
       "      <td>0.023387</td>\n",
       "      <td>0.164115</td>\n",
       "      <td>0.083869</td>\n",
       "      <td>0.067664</td>\n",
       "      <td>0.417536</td>\n",
       "      <td>0.022574</td>\n",
       "      <td>0.021157</td>\n",
       "    </tr>\n",
       "    <tr>\n",
       "      <th>5639</th>\n",
       "      <td>0.161679</td>\n",
       "      <td>0.008577</td>\n",
       "      <td>0.008959</td>\n",
       "      <td>0.277075</td>\n",
       "      <td>0.038878</td>\n",
       "      <td>0.480092</td>\n",
       "      <td>0.009579</td>\n",
       "      <td>0.007655</td>\n",
       "      <td>0.007507</td>\n",
       "    </tr>\n",
       "    <tr>\n",
       "      <th>5640</th>\n",
       "      <td>0.159206</td>\n",
       "      <td>0.048183</td>\n",
       "      <td>0.080793</td>\n",
       "      <td>0.178566</td>\n",
       "      <td>0.244678</td>\n",
       "      <td>0.139505</td>\n",
       "      <td>0.056395</td>\n",
       "      <td>0.048206</td>\n",
       "      <td>0.044469</td>\n",
       "    </tr>\n",
       "    <tr>\n",
       "      <th>5641</th>\n",
       "      <td>0.188821</td>\n",
       "      <td>0.034083</td>\n",
       "      <td>0.023028</td>\n",
       "      <td>0.397621</td>\n",
       "      <td>0.075675</td>\n",
       "      <td>0.191880</td>\n",
       "      <td>0.031902</td>\n",
       "      <td>0.028677</td>\n",
       "      <td>0.028313</td>\n",
       "    </tr>\n",
       "    <tr>\n",
       "      <th>5642</th>\n",
       "      <td>0.066834</td>\n",
       "      <td>0.110518</td>\n",
       "      <td>0.025350</td>\n",
       "      <td>0.129151</td>\n",
       "      <td>0.053221</td>\n",
       "      <td>0.029695</td>\n",
       "      <td>0.548554</td>\n",
       "      <td>0.018757</td>\n",
       "      <td>0.017920</td>\n",
       "    </tr>\n",
       "    <tr>\n",
       "      <th>5643</th>\n",
       "      <td>0.013850</td>\n",
       "      <td>0.371939</td>\n",
       "      <td>0.014627</td>\n",
       "      <td>0.017217</td>\n",
       "      <td>0.040360</td>\n",
       "      <td>0.043428</td>\n",
       "      <td>0.480373</td>\n",
       "      <td>0.010000</td>\n",
       "      <td>0.008206</td>\n",
       "    </tr>\n",
       "    <tr>\n",
       "      <th>5644</th>\n",
       "      <td>0.259042</td>\n",
       "      <td>0.039993</td>\n",
       "      <td>0.025960</td>\n",
       "      <td>0.368061</td>\n",
       "      <td>0.156074</td>\n",
       "      <td>0.047316</td>\n",
       "      <td>0.068494</td>\n",
       "      <td>0.017161</td>\n",
       "      <td>0.017899</td>\n",
       "    </tr>\n",
       "    <tr>\n",
       "      <th>5645</th>\n",
       "      <td>0.339628</td>\n",
       "      <td>0.046859</td>\n",
       "      <td>0.013005</td>\n",
       "      <td>0.185990</td>\n",
       "      <td>0.030130</td>\n",
       "      <td>0.045453</td>\n",
       "      <td>0.314440</td>\n",
       "      <td>0.012384</td>\n",
       "      <td>0.012109</td>\n",
       "    </tr>\n",
       "    <tr>\n",
       "      <th>5646</th>\n",
       "      <td>0.185373</td>\n",
       "      <td>0.202862</td>\n",
       "      <td>0.017200</td>\n",
       "      <td>0.166740</td>\n",
       "      <td>0.072948</td>\n",
       "      <td>0.048599</td>\n",
       "      <td>0.270554</td>\n",
       "      <td>0.016656</td>\n",
       "      <td>0.019067</td>\n",
       "    </tr>\n",
       "    <tr>\n",
       "      <th>5647</th>\n",
       "      <td>0.319851</td>\n",
       "      <td>0.020099</td>\n",
       "      <td>0.022928</td>\n",
       "      <td>0.521961</td>\n",
       "      <td>0.032777</td>\n",
       "      <td>0.040742</td>\n",
       "      <td>0.017593</td>\n",
       "      <td>0.011200</td>\n",
       "      <td>0.012849</td>\n",
       "    </tr>\n",
       "    <tr>\n",
       "      <th>5648</th>\n",
       "      <td>0.102498</td>\n",
       "      <td>0.055655</td>\n",
       "      <td>0.012637</td>\n",
       "      <td>0.244675</td>\n",
       "      <td>0.024916</td>\n",
       "      <td>0.027108</td>\n",
       "      <td>0.363630</td>\n",
       "      <td>0.010338</td>\n",
       "      <td>0.158543</td>\n",
       "    </tr>\n",
       "    <tr>\n",
       "      <th>5649</th>\n",
       "      <td>0.389033</td>\n",
       "      <td>0.054745</td>\n",
       "      <td>0.009139</td>\n",
       "      <td>0.137132</td>\n",
       "      <td>0.031323</td>\n",
       "      <td>0.066851</td>\n",
       "      <td>0.293374</td>\n",
       "      <td>0.010089</td>\n",
       "      <td>0.008313</td>\n",
       "    </tr>\n",
       "    <tr>\n",
       "      <th>5650</th>\n",
       "      <td>0.133288</td>\n",
       "      <td>0.107006</td>\n",
       "      <td>0.043134</td>\n",
       "      <td>0.085861</td>\n",
       "      <td>0.078460</td>\n",
       "      <td>0.083629</td>\n",
       "      <td>0.099826</td>\n",
       "      <td>0.327521</td>\n",
       "      <td>0.041276</td>\n",
       "    </tr>\n",
       "    <tr>\n",
       "      <th>5651</th>\n",
       "      <td>0.350696</td>\n",
       "      <td>0.148680</td>\n",
       "      <td>0.025254</td>\n",
       "      <td>0.187942</td>\n",
       "      <td>0.036428</td>\n",
       "      <td>0.036395</td>\n",
       "      <td>0.175201</td>\n",
       "      <td>0.018236</td>\n",
       "      <td>0.021169</td>\n",
       "    </tr>\n",
       "    <tr>\n",
       "      <th>5652</th>\n",
       "      <td>0.137217</td>\n",
       "      <td>0.060853</td>\n",
       "      <td>0.010251</td>\n",
       "      <td>0.620860</td>\n",
       "      <td>0.012033</td>\n",
       "      <td>0.016177</td>\n",
       "      <td>0.115415</td>\n",
       "      <td>0.009563</td>\n",
       "      <td>0.017631</td>\n",
       "    </tr>\n",
       "    <tr>\n",
       "      <th>5653</th>\n",
       "      <td>0.210238</td>\n",
       "      <td>0.089993</td>\n",
       "      <td>0.011236</td>\n",
       "      <td>0.332925</td>\n",
       "      <td>0.020292</td>\n",
       "      <td>0.024675</td>\n",
       "      <td>0.296821</td>\n",
       "      <td>0.006398</td>\n",
       "      <td>0.007423</td>\n",
       "    </tr>\n",
       "    <tr>\n",
       "      <th>5654</th>\n",
       "      <td>0.055581</td>\n",
       "      <td>0.235692</td>\n",
       "      <td>0.012519</td>\n",
       "      <td>0.111052</td>\n",
       "      <td>0.024948</td>\n",
       "      <td>0.020873</td>\n",
       "      <td>0.519030</td>\n",
       "      <td>0.010621</td>\n",
       "      <td>0.009684</td>\n",
       "    </tr>\n",
       "    <tr>\n",
       "      <th>5655</th>\n",
       "      <td>0.098094</td>\n",
       "      <td>0.006962</td>\n",
       "      <td>0.010990</td>\n",
       "      <td>0.595362</td>\n",
       "      <td>0.087386</td>\n",
       "      <td>0.180002</td>\n",
       "      <td>0.007327</td>\n",
       "      <td>0.007783</td>\n",
       "      <td>0.006094</td>\n",
       "    </tr>\n",
       "    <tr>\n",
       "      <th>5656</th>\n",
       "      <td>0.028263</td>\n",
       "      <td>0.365142</td>\n",
       "      <td>0.018228</td>\n",
       "      <td>0.041822</td>\n",
       "      <td>0.076501</td>\n",
       "      <td>0.041402</td>\n",
       "      <td>0.396520</td>\n",
       "      <td>0.015149</td>\n",
       "      <td>0.016972</td>\n",
       "    </tr>\n",
       "    <tr>\n",
       "      <th>5657</th>\n",
       "      <td>0.168542</td>\n",
       "      <td>0.027102</td>\n",
       "      <td>0.020764</td>\n",
       "      <td>0.356015</td>\n",
       "      <td>0.203796</td>\n",
       "      <td>0.102641</td>\n",
       "      <td>0.086925</td>\n",
       "      <td>0.017104</td>\n",
       "      <td>0.017112</td>\n",
       "    </tr>\n",
       "    <tr>\n",
       "      <th>5658</th>\n",
       "      <td>0.081897</td>\n",
       "      <td>0.343579</td>\n",
       "      <td>0.009289</td>\n",
       "      <td>0.279106</td>\n",
       "      <td>0.024866</td>\n",
       "      <td>0.026442</td>\n",
       "      <td>0.218847</td>\n",
       "      <td>0.008090</td>\n",
       "      <td>0.007884</td>\n",
       "    </tr>\n",
       "    <tr>\n",
       "      <th>5659</th>\n",
       "      <td>0.343688</td>\n",
       "      <td>0.211821</td>\n",
       "      <td>0.013176</td>\n",
       "      <td>0.253321</td>\n",
       "      <td>0.027427</td>\n",
       "      <td>0.041739</td>\n",
       "      <td>0.084171</td>\n",
       "      <td>0.012573</td>\n",
       "      <td>0.012085</td>\n",
       "    </tr>\n",
       "    <tr>\n",
       "      <th>5660</th>\n",
       "      <td>0.218385</td>\n",
       "      <td>0.081729</td>\n",
       "      <td>0.036253</td>\n",
       "      <td>0.241333</td>\n",
       "      <td>0.090820</td>\n",
       "      <td>0.210612</td>\n",
       "      <td>0.062287</td>\n",
       "      <td>0.028895</td>\n",
       "      <td>0.029686</td>\n",
       "    </tr>\n",
       "    <tr>\n",
       "      <th>5661</th>\n",
       "      <td>0.302884</td>\n",
       "      <td>0.056842</td>\n",
       "      <td>0.024709</td>\n",
       "      <td>0.310225</td>\n",
       "      <td>0.157609</td>\n",
       "      <td>0.082075</td>\n",
       "      <td>0.024864</td>\n",
       "      <td>0.021131</td>\n",
       "      <td>0.019661</td>\n",
       "    </tr>\n",
       "    <tr>\n",
       "      <th>5662</th>\n",
       "      <td>0.023195</td>\n",
       "      <td>0.339271</td>\n",
       "      <td>0.013806</td>\n",
       "      <td>0.021141</td>\n",
       "      <td>0.019875</td>\n",
       "      <td>0.020945</td>\n",
       "      <td>0.537548</td>\n",
       "      <td>0.014775</td>\n",
       "      <td>0.009444</td>\n",
       "    </tr>\n",
       "    <tr>\n",
       "      <th>5663</th>\n",
       "      <td>0.020945</td>\n",
       "      <td>0.629754</td>\n",
       "      <td>0.010595</td>\n",
       "      <td>0.015614</td>\n",
       "      <td>0.026659</td>\n",
       "      <td>0.032348</td>\n",
       "      <td>0.239307</td>\n",
       "      <td>0.014957</td>\n",
       "      <td>0.009821</td>\n",
       "    </tr>\n",
       "    <tr>\n",
       "      <th>5664</th>\n",
       "      <td>0.403462</td>\n",
       "      <td>0.014515</td>\n",
       "      <td>0.017059</td>\n",
       "      <td>0.459724</td>\n",
       "      <td>0.027407</td>\n",
       "      <td>0.033738</td>\n",
       "      <td>0.015324</td>\n",
       "      <td>0.015162</td>\n",
       "      <td>0.013609</td>\n",
       "    </tr>\n",
       "    <tr>\n",
       "      <th>5665</th>\n",
       "      <td>0.149122</td>\n",
       "      <td>0.076361</td>\n",
       "      <td>0.015033</td>\n",
       "      <td>0.441825</td>\n",
       "      <td>0.040169</td>\n",
       "      <td>0.022860</td>\n",
       "      <td>0.224694</td>\n",
       "      <td>0.017825</td>\n",
       "      <td>0.012111</td>\n",
       "    </tr>\n",
       "    <tr>\n",
       "      <th>5666</th>\n",
       "      <td>0.114028</td>\n",
       "      <td>0.555762</td>\n",
       "      <td>0.011798</td>\n",
       "      <td>0.069339</td>\n",
       "      <td>0.045393</td>\n",
       "      <td>0.029016</td>\n",
       "      <td>0.152827</td>\n",
       "      <td>0.009703</td>\n",
       "      <td>0.012133</td>\n",
       "    </tr>\n",
       "    <tr>\n",
       "      <th>5667</th>\n",
       "      <td>0.184335</td>\n",
       "      <td>0.059679</td>\n",
       "      <td>0.019684</td>\n",
       "      <td>0.480405</td>\n",
       "      <td>0.094059</td>\n",
       "      <td>0.060076</td>\n",
       "      <td>0.062680</td>\n",
       "      <td>0.020599</td>\n",
       "      <td>0.018483</td>\n",
       "    </tr>\n",
       "  </tbody>\n",
       "</table>\n",
       "<p>5668 rows × 9 columns</p>\n",
       "</div>"
      ],
      "text/plain": [
       "        class1    class2    class3    class4    class5    class6    class7  \\\n",
       "0     0.217152  0.040285  0.018093  0.433761  0.051767  0.014652  0.202038   \n",
       "1     0.021738  0.497490  0.024642  0.094906  0.038192  0.046334  0.238715   \n",
       "2     0.119016  0.103393  0.014961  0.149527  0.051417  0.025107  0.512518   \n",
       "3     0.101753  0.186364  0.026325  0.017767  0.018478  0.046546  0.580879   \n",
       "4     0.652957  0.015073  0.019614  0.109611  0.097625  0.057076  0.017409   \n",
       "5     0.101519  0.434508  0.011106  0.128583  0.041189  0.037842  0.218875   \n",
       "6     0.425444  0.021562  0.047998  0.253819  0.110143  0.054466  0.042214   \n",
       "7     0.201623  0.365711  0.013871  0.121227  0.034544  0.042352  0.193682   \n",
       "8     0.235558  0.170395  0.007635  0.227899  0.032146  0.124325  0.184784   \n",
       "9     0.177793  0.116369  0.012788  0.396404  0.038406  0.053964  0.181312   \n",
       "10    0.095033  0.046242  0.073894  0.179778  0.188281  0.258285  0.072512   \n",
       "11    0.075728  0.033222  0.037600  0.101150  0.187956  0.470140  0.045497   \n",
       "12    0.493584  0.067629  0.100130  0.139468  0.090889  0.046486  0.028791   \n",
       "13    0.034419  0.171400  0.050742  0.013724  0.041370  0.030994  0.622176   \n",
       "14    0.213194  0.155132  0.013147  0.428353  0.023869  0.016689  0.133139   \n",
       "15    0.347197  0.100754  0.013579  0.193375  0.024845  0.045916  0.254612   \n",
       "16    0.116895  0.117352  0.038019  0.105613  0.070052  0.085572  0.380982   \n",
       "17    0.275771  0.105024  0.018774  0.121749  0.021696  0.030405  0.403622   \n",
       "18    0.123208  0.047081  0.070558  0.150683  0.313733  0.115947  0.091489   \n",
       "19    0.267551  0.079828  0.052554  0.219427  0.108876  0.047117  0.184061   \n",
       "20    0.072224  0.145454  0.011437  0.117993  0.038567  0.023473  0.560405   \n",
       "21    0.460416  0.045678  0.023267  0.302894  0.022735  0.020066  0.038200   \n",
       "22    0.220850  0.132195  0.019594  0.346704  0.065881  0.045776  0.132508   \n",
       "23    0.175577  0.022174  0.016933  0.442161  0.055798  0.215318  0.037114   \n",
       "24    0.072620  0.103745  0.008466  0.030428  0.009383  0.018474  0.742205   \n",
       "25    0.055674  0.202793  0.022169  0.046351  0.037771  0.046373  0.548994   \n",
       "26    0.293994  0.057871  0.032914  0.130715  0.080758  0.217879  0.127374   \n",
       "27    0.104781  0.042514  0.012294  0.511374  0.032281  0.017301  0.255270   \n",
       "28    0.031384  0.400737  0.014227  0.040321  0.054320  0.063489  0.365382   \n",
       "29    0.026866  0.280677  0.022077  0.120436  0.037561  0.043880  0.442983   \n",
       "...        ...       ...       ...       ...       ...       ...       ...   \n",
       "5638  0.160500  0.039199  0.023387  0.164115  0.083869  0.067664  0.417536   \n",
       "5639  0.161679  0.008577  0.008959  0.277075  0.038878  0.480092  0.009579   \n",
       "5640  0.159206  0.048183  0.080793  0.178566  0.244678  0.139505  0.056395   \n",
       "5641  0.188821  0.034083  0.023028  0.397621  0.075675  0.191880  0.031902   \n",
       "5642  0.066834  0.110518  0.025350  0.129151  0.053221  0.029695  0.548554   \n",
       "5643  0.013850  0.371939  0.014627  0.017217  0.040360  0.043428  0.480373   \n",
       "5644  0.259042  0.039993  0.025960  0.368061  0.156074  0.047316  0.068494   \n",
       "5645  0.339628  0.046859  0.013005  0.185990  0.030130  0.045453  0.314440   \n",
       "5646  0.185373  0.202862  0.017200  0.166740  0.072948  0.048599  0.270554   \n",
       "5647  0.319851  0.020099  0.022928  0.521961  0.032777  0.040742  0.017593   \n",
       "5648  0.102498  0.055655  0.012637  0.244675  0.024916  0.027108  0.363630   \n",
       "5649  0.389033  0.054745  0.009139  0.137132  0.031323  0.066851  0.293374   \n",
       "5650  0.133288  0.107006  0.043134  0.085861  0.078460  0.083629  0.099826   \n",
       "5651  0.350696  0.148680  0.025254  0.187942  0.036428  0.036395  0.175201   \n",
       "5652  0.137217  0.060853  0.010251  0.620860  0.012033  0.016177  0.115415   \n",
       "5653  0.210238  0.089993  0.011236  0.332925  0.020292  0.024675  0.296821   \n",
       "5654  0.055581  0.235692  0.012519  0.111052  0.024948  0.020873  0.519030   \n",
       "5655  0.098094  0.006962  0.010990  0.595362  0.087386  0.180002  0.007327   \n",
       "5656  0.028263  0.365142  0.018228  0.041822  0.076501  0.041402  0.396520   \n",
       "5657  0.168542  0.027102  0.020764  0.356015  0.203796  0.102641  0.086925   \n",
       "5658  0.081897  0.343579  0.009289  0.279106  0.024866  0.026442  0.218847   \n",
       "5659  0.343688  0.211821  0.013176  0.253321  0.027427  0.041739  0.084171   \n",
       "5660  0.218385  0.081729  0.036253  0.241333  0.090820  0.210612  0.062287   \n",
       "5661  0.302884  0.056842  0.024709  0.310225  0.157609  0.082075  0.024864   \n",
       "5662  0.023195  0.339271  0.013806  0.021141  0.019875  0.020945  0.537548   \n",
       "5663  0.020945  0.629754  0.010595  0.015614  0.026659  0.032348  0.239307   \n",
       "5664  0.403462  0.014515  0.017059  0.459724  0.027407  0.033738  0.015324   \n",
       "5665  0.149122  0.076361  0.015033  0.441825  0.040169  0.022860  0.224694   \n",
       "5666  0.114028  0.555762  0.011798  0.069339  0.045393  0.029016  0.152827   \n",
       "5667  0.184335  0.059679  0.019684  0.480405  0.094059  0.060076  0.062680   \n",
       "\n",
       "        class8    class9  \n",
       "0     0.011526  0.010725  \n",
       "1     0.019987  0.017996  \n",
       "2     0.013005  0.011057  \n",
       "3     0.011414  0.010475  \n",
       "4     0.013454  0.017183  \n",
       "5     0.012794  0.013585  \n",
       "6     0.019494  0.024860  \n",
       "7     0.014528  0.012463  \n",
       "8     0.010550  0.006707  \n",
       "9     0.011775  0.011188  \n",
       "10    0.043297  0.042677  \n",
       "11    0.024529  0.024178  \n",
       "12    0.017277  0.015747  \n",
       "13    0.012378  0.022797  \n",
       "14    0.008858  0.007621  \n",
       "15    0.009932  0.009789  \n",
       "16    0.051818  0.033696  \n",
       "17    0.011637  0.011323  \n",
       "18    0.044573  0.042728  \n",
       "19    0.017477  0.023111  \n",
       "20    0.012559  0.017887  \n",
       "21    0.014938  0.071805  \n",
       "22    0.018474  0.018019  \n",
       "23    0.015768  0.019156  \n",
       "24    0.005704  0.008976  \n",
       "25    0.024804  0.015072  \n",
       "26    0.029534  0.028961  \n",
       "27    0.014115  0.010070  \n",
       "28    0.014608  0.015533  \n",
       "29    0.014753  0.010766  \n",
       "...        ...       ...  \n",
       "5638  0.022574  0.021157  \n",
       "5639  0.007655  0.007507  \n",
       "5640  0.048206  0.044469  \n",
       "5641  0.028677  0.028313  \n",
       "5642  0.018757  0.017920  \n",
       "5643  0.010000  0.008206  \n",
       "5644  0.017161  0.017899  \n",
       "5645  0.012384  0.012109  \n",
       "5646  0.016656  0.019067  \n",
       "5647  0.011200  0.012849  \n",
       "5648  0.010338  0.158543  \n",
       "5649  0.010089  0.008313  \n",
       "5650  0.327521  0.041276  \n",
       "5651  0.018236  0.021169  \n",
       "5652  0.009563  0.017631  \n",
       "5653  0.006398  0.007423  \n",
       "5654  0.010621  0.009684  \n",
       "5655  0.007783  0.006094  \n",
       "5656  0.015149  0.016972  \n",
       "5657  0.017104  0.017112  \n",
       "5658  0.008090  0.007884  \n",
       "5659  0.012573  0.012085  \n",
       "5660  0.028895  0.029686  \n",
       "5661  0.021131  0.019661  \n",
       "5662  0.014775  0.009444  \n",
       "5663  0.014957  0.009821  \n",
       "5664  0.015162  0.013609  \n",
       "5665  0.017825  0.012111  \n",
       "5666  0.009703  0.012133  \n",
       "5667  0.020599  0.018483  \n",
       "\n",
       "[5668 rows x 9 columns]"
      ]
     },
     "execution_count": 87,
     "metadata": {},
     "output_type": "execute_result"
    }
   ],
   "source": [
    "res1"
   ]
  },
  {
   "cell_type": "code",
   "execution_count": 83,
   "metadata": {
    "scrolled": true
   },
   "outputs": [
    {
     "data": {
      "text/plain": [
       "5668"
      ]
     },
     "execution_count": 83,
     "metadata": {},
     "output_type": "execute_result"
    }
   ],
   "source": [
    "final1=np.array(pred_prob)\n",
    "len(final1)"
   ]
  },
  {
   "cell_type": "code",
   "execution_count": 73,
   "metadata": {
    "collapsed": true,
    "scrolled": true
   },
   "outputs": [],
   "source": [
    " res1=pd.DataFrame(result_from_grid)"
   ]
  },
  {
   "cell_type": "code",
   "execution_count": 85,
   "metadata": {
    "collapsed": true
   },
   "outputs": [],
   "source": [
    "#index = [str(i) for i in range(0, len(final1))]\n",
    "#res1 = pd.DataFrame(final1, index=index)"
   ]
  },
  {
   "cell_type": "code",
   "execution_count": 74,
   "metadata": {
    "collapsed": true,
    "scrolled": true
   },
   "outputs": [],
   "source": [
    "res1.rename(columns={0:\"class1\",1:\"class2\",2:\"class3\",3:\"class4\",4:\"class5\",5:\"class6\",6:\"class7\",7:\"class8\",8:\"class9\"},inplace=True)"
   ]
  },
  {
   "cell_type": "code",
   "execution_count": 76,
   "metadata": {
    "collapsed": true
   },
   "outputs": [],
   "source": [
    "res1.to_csv(\"results_grid_29th.csv\")"
   ]
  },
  {
   "cell_type": "code",
   "execution_count": null,
   "metadata": {
    "collapsed": true
   },
   "outputs": [],
   "source": []
  },
  {
   "cell_type": "code",
   "execution_count": 549,
   "metadata": {
    "collapsed": true
   },
   "outputs": [],
   "source": [
    "result_df=pd.DataFrame(result)"
   ]
  },
  {
   "cell_type": "code",
   "execution_count": 550,
   "metadata": {
    "collapsed": true,
    "scrolled": true
   },
   "outputs": [],
   "source": [
    "result_df.rename(columns={0:\"result\"},inplace=True)"
   ]
  },
  {
   "cell_type": "code",
   "execution_count": 551,
   "metadata": {},
   "outputs": [
    {
     "data": {
      "text/html": [
       "<div>\n",
       "<table border=\"1\" class=\"dataframe\">\n",
       "  <thead>\n",
       "    <tr style=\"text-align: right;\">\n",
       "      <th></th>\n",
       "      <th>result</th>\n",
       "    </tr>\n",
       "  </thead>\n",
       "  <tbody>\n",
       "    <tr>\n",
       "      <th>0</th>\n",
       "      <td>4</td>\n",
       "    </tr>\n",
       "    <tr>\n",
       "      <th>1</th>\n",
       "      <td>4</td>\n",
       "    </tr>\n",
       "  </tbody>\n",
       "</table>\n",
       "</div>"
      ],
      "text/plain": [
       "   result\n",
       "0       4\n",
       "1       4"
      ]
     },
     "execution_count": 551,
     "metadata": {},
     "output_type": "execute_result"
    }
   ],
   "source": [
    "result_df.head(2)"
   ]
  },
  {
   "cell_type": "code",
   "execution_count": 553,
   "metadata": {},
   "outputs": [
    {
     "data": {
      "text/plain": [
       "result    1163\n",
       "dtype: int64"
      ]
     },
     "execution_count": 553,
     "metadata": {},
     "output_type": "execute_result"
    }
   ],
   "source": [
    "result_df[result_df[\"result\"]==1].count()"
   ]
  },
  {
   "cell_type": "code",
   "execution_count": 572,
   "metadata": {
    "collapsed": true
   },
   "outputs": [],
   "source": [
    "res=pd.get_dummies(result_df, prefix='class',columns=[\"result\"])"
   ]
  },
  {
   "cell_type": "code",
   "execution_count": 573,
   "metadata": {},
   "outputs": [
    {
     "data": {
      "text/plain": [
       "class_1.0    False\n",
       "class_2.0    False\n",
       "class_3.0    False\n",
       "class_4.0    False\n",
       "class_5.0    False\n",
       "class_6.0    False\n",
       "class_7.0    False\n",
       "class_8.0    False\n",
       "class_9.0    False\n",
       "dtype: bool"
      ]
     },
     "execution_count": 573,
     "metadata": {},
     "output_type": "execute_result"
    }
   ],
   "source": [
    "(res == 0).all()"
   ]
  },
  {
   "cell_type": "code",
   "execution_count": 574,
   "metadata": {},
   "outputs": [
    {
     "data": {
      "text/html": [
       "<div>\n",
       "<table border=\"1\" class=\"dataframe\">\n",
       "  <thead>\n",
       "    <tr style=\"text-align: right;\">\n",
       "      <th></th>\n",
       "      <th>class_1.0</th>\n",
       "      <th>class_2.0</th>\n",
       "      <th>class_3.0</th>\n",
       "      <th>class_4.0</th>\n",
       "      <th>class_5.0</th>\n",
       "      <th>class_6.0</th>\n",
       "      <th>class_7.0</th>\n",
       "      <th>class_8.0</th>\n",
       "      <th>class_9.0</th>\n",
       "    </tr>\n",
       "  </thead>\n",
       "  <tbody>\n",
       "    <tr>\n",
       "      <th>0</th>\n",
       "      <td>0</td>\n",
       "      <td>0</td>\n",
       "      <td>0</td>\n",
       "      <td>1</td>\n",
       "      <td>0</td>\n",
       "      <td>0</td>\n",
       "      <td>0</td>\n",
       "      <td>0</td>\n",
       "      <td>0</td>\n",
       "    </tr>\n",
       "    <tr>\n",
       "      <th>1</th>\n",
       "      <td>0</td>\n",
       "      <td>0</td>\n",
       "      <td>0</td>\n",
       "      <td>1</td>\n",
       "      <td>0</td>\n",
       "      <td>0</td>\n",
       "      <td>0</td>\n",
       "      <td>0</td>\n",
       "      <td>0</td>\n",
       "    </tr>\n",
       "  </tbody>\n",
       "</table>\n",
       "</div>"
      ],
      "text/plain": [
       "   class_1.0  class_2.0  class_3.0  class_4.0  class_5.0  class_6.0  \\\n",
       "0          0          0          0          1          0          0   \n",
       "1          0          0          0          1          0          0   \n",
       "\n",
       "   class_7.0  class_8.0  class_9.0  \n",
       "0          0          0          0  \n",
       "1          0          0          0  "
      ]
     },
     "execution_count": 574,
     "metadata": {},
     "output_type": "execute_result"
    }
   ],
   "source": [
    "res.head(2)"
   ]
  },
  {
   "cell_type": "code",
   "execution_count": 575,
   "metadata": {
    "collapsed": true
   },
   "outputs": [],
   "source": [
    "res.rename(columns={\"class_1.0\":\"class1\",\"class_2.0\":\"class2\",\"class_3.0\":\"class3\",\"class_4.0\":\"class4\",\"class_5.0\":\"class5\",\"class_6.0\":\"class6\",\"class_7.0\":\"class7\",\"class_8.0\":\"class8\",\"class_9.0\":\"class9\"},inplace=True)"
   ]
  },
  {
   "cell_type": "code",
   "execution_count": 576,
   "metadata": {},
   "outputs": [
    {
     "data": {
      "text/html": [
       "<div>\n",
       "<table border=\"1\" class=\"dataframe\">\n",
       "  <thead>\n",
       "    <tr style=\"text-align: right;\">\n",
       "      <th></th>\n",
       "      <th>class1</th>\n",
       "      <th>class2</th>\n",
       "      <th>class3</th>\n",
       "      <th>class4</th>\n",
       "      <th>class5</th>\n",
       "      <th>class6</th>\n",
       "      <th>class7</th>\n",
       "      <th>class8</th>\n",
       "      <th>class9</th>\n",
       "    </tr>\n",
       "  </thead>\n",
       "  <tbody>\n",
       "    <tr>\n",
       "      <th>0</th>\n",
       "      <td>0</td>\n",
       "      <td>0</td>\n",
       "      <td>0</td>\n",
       "      <td>1</td>\n",
       "      <td>0</td>\n",
       "      <td>0</td>\n",
       "      <td>0</td>\n",
       "      <td>0</td>\n",
       "      <td>0</td>\n",
       "    </tr>\n",
       "    <tr>\n",
       "      <th>1</th>\n",
       "      <td>0</td>\n",
       "      <td>0</td>\n",
       "      <td>0</td>\n",
       "      <td>1</td>\n",
       "      <td>0</td>\n",
       "      <td>0</td>\n",
       "      <td>0</td>\n",
       "      <td>0</td>\n",
       "      <td>0</td>\n",
       "    </tr>\n",
       "    <tr>\n",
       "      <th>2</th>\n",
       "      <td>1</td>\n",
       "      <td>0</td>\n",
       "      <td>0</td>\n",
       "      <td>0</td>\n",
       "      <td>0</td>\n",
       "      <td>0</td>\n",
       "      <td>0</td>\n",
       "      <td>0</td>\n",
       "      <td>0</td>\n",
       "    </tr>\n",
       "    <tr>\n",
       "      <th>3</th>\n",
       "      <td>0</td>\n",
       "      <td>0</td>\n",
       "      <td>0</td>\n",
       "      <td>1</td>\n",
       "      <td>0</td>\n",
       "      <td>0</td>\n",
       "      <td>0</td>\n",
       "      <td>0</td>\n",
       "      <td>0</td>\n",
       "    </tr>\n",
       "  </tbody>\n",
       "</table>\n",
       "</div>"
      ],
      "text/plain": [
       "   class1  class2  class3  class4  class5  class6  class7  class8  class9\n",
       "0       0       0       0       1       0       0       0       0       0\n",
       "1       0       0       0       1       0       0       0       0       0\n",
       "2       1       0       0       0       0       0       0       0       0\n",
       "3       0       0       0       1       0       0       0       0       0"
      ]
     },
     "execution_count": 576,
     "metadata": {},
     "output_type": "execute_result"
    }
   ],
   "source": [
    "res.head(4)"
   ]
  },
  {
   "cell_type": "code",
   "execution_count": 580,
   "metadata": {
    "collapsed": true
   },
   "outputs": [],
   "source": [
    "res.index.name=\"ID\"\n",
    "res=res.reset_index()\n"
   ]
  },
  {
   "cell_type": "code",
   "execution_count": null,
   "metadata": {
    "collapsed": true
   },
   "outputs": [],
   "source": []
  },
  {
   "cell_type": "code",
   "execution_count": 581,
   "metadata": {},
   "outputs": [
    {
     "data": {
      "text/html": [
       "<div>\n",
       "<table border=\"1\" class=\"dataframe\">\n",
       "  <thead>\n",
       "    <tr style=\"text-align: right;\">\n",
       "      <th></th>\n",
       "      <th>ID</th>\n",
       "      <th>class1</th>\n",
       "      <th>class2</th>\n",
       "      <th>class3</th>\n",
       "      <th>class4</th>\n",
       "      <th>class5</th>\n",
       "      <th>class6</th>\n",
       "      <th>class7</th>\n",
       "      <th>class8</th>\n",
       "      <th>class9</th>\n",
       "    </tr>\n",
       "  </thead>\n",
       "  <tbody>\n",
       "    <tr>\n",
       "      <th>0</th>\n",
       "      <td>0</td>\n",
       "      <td>0</td>\n",
       "      <td>0</td>\n",
       "      <td>0</td>\n",
       "      <td>1</td>\n",
       "      <td>0</td>\n",
       "      <td>0</td>\n",
       "      <td>0</td>\n",
       "      <td>0</td>\n",
       "      <td>0</td>\n",
       "    </tr>\n",
       "    <tr>\n",
       "      <th>1</th>\n",
       "      <td>1</td>\n",
       "      <td>0</td>\n",
       "      <td>0</td>\n",
       "      <td>0</td>\n",
       "      <td>1</td>\n",
       "      <td>0</td>\n",
       "      <td>0</td>\n",
       "      <td>0</td>\n",
       "      <td>0</td>\n",
       "      <td>0</td>\n",
       "    </tr>\n",
       "  </tbody>\n",
       "</table>\n",
       "</div>"
      ],
      "text/plain": [
       "   ID  class1  class2  class3  class4  class5  class6  class7  class8  class9\n",
       "0   0       0       0       0       1       0       0       0       0       0\n",
       "1   1       0       0       0       1       0       0       0       0       0"
      ]
     },
     "execution_count": 581,
     "metadata": {},
     "output_type": "execute_result"
    }
   ],
   "source": [
    "res.head(2)"
   ]
  },
  {
   "cell_type": "markdown",
   "metadata": {},
   "source": [
    "res"
   ]
  },
  {
   "cell_type": "code",
   "execution_count": 582,
   "metadata": {
    "collapsed": true
   },
   "outputs": [],
   "source": [
    "res.to_csv(\"result.csv\")"
   ]
  },
  {
   "cell_type": "code",
   "execution_count": 583,
   "metadata": {},
   "outputs": [
    {
     "data": {
      "text/plain": [
       "(5668, 10)"
      ]
     },
     "execution_count": 583,
     "metadata": {},
     "output_type": "execute_result"
    }
   ],
   "source": [
    "res.shape"
   ]
  },
  {
   "cell_type": "code",
   "execution_count": 4,
   "metadata": {},
   "outputs": [
    {
     "data": {
      "text/plain": [
       "<module 'xgboost.libpath' from '/Users/deepakmahapatra/anaconda/lib/python2.7/site-packages/xgboost/libpath.pyc'>"
      ]
     },
     "execution_count": 4,
     "metadata": {},
     "output_type": "execute_result"
    }
   ],
   "source": [
    "xgb.libpath"
   ]
  },
  {
   "cell_type": "code",
   "execution_count": 3,
   "metadata": {},
   "outputs": [
    {
     "name": "stderr",
     "output_type": "stream",
     "text": [
      "/Users/deepakmahapatra/anaconda/lib/python2.7/site-packages/sklearn/cross_validation.py:44: DeprecationWarning: This module was deprecated in version 0.18 in favor of the model_selection module into which all the refactored classes and functions are moved. Also note that the interface of the new CV iterators are different from that of this module. This module will be removed in 0.20.\n",
      "  \"This module will be removed in 0.20.\", DeprecationWarning)\n"
     ]
    }
   ],
   "source": [
    "import xgboost as xgb"
   ]
  },
  {
   "cell_type": "code",
   "execution_count": null,
   "metadata": {
    "collapsed": true
   },
   "outputs": [],
   "source": []
  }
 ],
 "metadata": {
  "kernelspec": {
   "display_name": "Python 2",
   "language": "python",
   "name": "python2"
  },
  "language_info": {
   "codemirror_mode": {
    "name": "ipython",
    "version": 2
   },
   "file_extension": ".py",
   "mimetype": "text/x-python",
   "name": "python",
   "nbconvert_exporter": "python",
   "pygments_lexer": "ipython2",
   "version": "2.7.13"
  }
 },
 "nbformat": 4,
 "nbformat_minor": 1
}
